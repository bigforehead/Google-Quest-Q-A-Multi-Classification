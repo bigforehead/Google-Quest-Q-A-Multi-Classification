{
 "cells": [
  {
   "cell_type": "markdown",
   "metadata": {},
   "source": [
    "# Q&A GOOGLE QUEST PROJECT \n",
    "**Text Analytics | Prof Evan**\n",
    "\n",
    "**Author:** Tram Ngoc Le\n",
    "\n",
    "## Part I: Q&A Category Classification\n",
    "\n",
    "In Q&A Category Classification part, Google pairs of questions and answers are classified into **5 topics**, including **life/arts, culture, science, technology**, and **stackoverflow** by application of supervised machine learning technique along with text analytics. \n",
    "\n",
    "The process of the methodology implementation are set up as below:\n",
    "\n",
    "- **Step 1. Preliminary steps**  - Set up packages | Load Text | Initial exploratory | Text Preprocessing\n",
    "- **Step 2. Text Preprocessing** - Stopwords Removal, Stemming, Lowercase, ...etc\n",
    "- **Step 3. Feature Engineering**  - TFIDF features\n",
    "\n",
    "- **Step 4. Oversampling** - Handle unbalanced class problem with TFIDF features\n",
    "- **Step 5. Model Building** - SVM | Naive Bayes | Random Forest | Decision Tree \n",
    "- **Step 6. Model Selection** - Model Comparison & Selection - Metrics: Accuracy rate on training data\n",
    "- **Step 7. Model Evaluation** - Metrics: Accuracy, F1 Score, Precision Score, Recall Score\n",
    "- **Step 8. Conclusion**\n",
    "- **Appendix** - Evaluate other features + models that were tried before the best features and best models are created \n",
    "- **Reference**\n",
    "**Note**: *Questions and Answers are categorized seperately*\n",
    "# ___\n",
    "## Step 1: Preliminary Steps\n",
    "- Setup required packages/libraries "
   ]
  },
  {
   "cell_type": "code",
   "execution_count": 1,
   "metadata": {},
   "outputs": [
    {
     "name": "stderr",
     "output_type": "stream",
     "text": [
      "Using TensorFlow backend.\n"
     ]
    }
   ],
   "source": [
    "# Set up\n",
    "\n",
    "import pandas as pd\n",
    "import numpy as np\n",
    "import nltk\n",
    "import re\n",
    "import gensim\n",
    "import seaborn as sns\n",
    "%matplotlib inline\n",
    "import matplotlib\n",
    "import matplotlib.pyplot as plt\n",
    "from sklearn.model_selection import cross_val_score\n",
    "# SMOTE\n",
    "import imblearn\n",
    "# print(imblearn.__version__)\n",
    "from imblearn.over_sampling import SMOTE #use for oversampling \n",
    "from collections import Counter"
   ]
  },
  {
   "cell_type": "markdown",
   "metadata": {},
   "source": [
    "- Load Data & Examize Training vs Testing\n",
    "- The Kaggle provide both training and testing data for CATEGORY CLASSIFICATION\n",
    "- The partition between **training and testing** is **93% - 7%** of the data, respectively"
   ]
  },
  {
   "cell_type": "code",
   "execution_count": 2,
   "metadata": {},
   "outputs": [],
   "source": [
    "# Load Data\n",
    "train = pd.read_csv(\"train.csv\")\n",
    "test = pd.read_csv(\"test.csv\")"
   ]
  },
  {
   "cell_type": "code",
   "execution_count": 3,
   "metadata": {},
   "outputs": [],
   "source": [
    "df_train = train\n",
    "df_test = test"
   ]
  },
  {
   "cell_type": "code",
   "execution_count": 4,
   "metadata": {},
   "outputs": [
    {
     "name": "stdout",
     "output_type": "stream",
     "text": [
      "Observations for trainning: 6079 \n",
      "Observations for testing: 476\n",
      "Train-Test: 93 - 7\n"
     ]
    }
   ],
   "source": [
    "# Training vs. Testing Ratio\n",
    "print(\"Observations for trainning:\", len(train),\"\\nObservations for testing:\", len(test))\n",
    "print(\"Train-Test:\", round((len(train)/(len(train)+len(test)))*100),\"-\",round((len(test)/(len(train)+len(test)))*100))"
   ]
  },
  {
   "cell_type": "markdown",
   "metadata": {},
   "source": [
    "- Preprocess Data | Adding category_id to the data set"
   ]
  },
  {
   "cell_type": "code",
   "execution_count": 5,
   "metadata": {},
   "outputs": [],
   "source": [
    "# Preprocess data\n",
    "# Reduce the dimension of the original dataset\n",
    "train = train[['question_body','answer','category']]\n",
    "test = test[['question_body','answer','category']]"
   ]
  },
  {
   "cell_type": "code",
   "execution_count": 6,
   "metadata": {},
   "outputs": [
    {
     "name": "stdout",
     "output_type": "stream",
     "text": [
      "ID to Category: {0: 'LIFE_ARTS', 1: 'CULTURE', 2: 'SCIENCE', 3: 'STACKOVERFLOW', 4: 'TECHNOLOGY'}\n",
      "Category to ID: {'LIFE_ARTS': 0, 'CULTURE': 1, 'SCIENCE': 2, 'STACKOVERFLOW': 3, 'TECHNOLOGY': 4}\n"
     ]
    },
    {
     "name": "stderr",
     "output_type": "stream",
     "text": [
      "C:\\Users\\Jennie\\Anaconda3\\lib\\site-packages\\ipykernel_launcher.py:3: SettingWithCopyWarning: \n",
      "A value is trying to be set on a copy of a slice from a DataFrame.\n",
      "Try using .loc[row_indexer,col_indexer] = value instead\n",
      "\n",
      "See the caveats in the documentation: http://pandas.pydata.org/pandas-docs/stable/user_guide/indexing.html#returning-a-view-versus-a-copy\n",
      "  This is separate from the ipykernel package so we can avoid doing imports until\n"
     ]
    },
    {
     "data": {
      "text/html": [
       "<div>\n",
       "<style scoped>\n",
       "    .dataframe tbody tr th:only-of-type {\n",
       "        vertical-align: middle;\n",
       "    }\n",
       "\n",
       "    .dataframe tbody tr th {\n",
       "        vertical-align: top;\n",
       "    }\n",
       "\n",
       "    .dataframe thead th {\n",
       "        text-align: right;\n",
       "    }\n",
       "</style>\n",
       "<table border=\"1\" class=\"dataframe\">\n",
       "  <thead>\n",
       "    <tr style=\"text-align: right;\">\n",
       "      <th></th>\n",
       "      <th>question_body</th>\n",
       "      <th>answer</th>\n",
       "      <th>category</th>\n",
       "      <th>category_id</th>\n",
       "    </tr>\n",
       "  </thead>\n",
       "  <tbody>\n",
       "    <tr>\n",
       "      <td>0</td>\n",
       "      <td>After playing around with macro photography on...</td>\n",
       "      <td>I just got extension tubes, so here's the skin...</td>\n",
       "      <td>LIFE_ARTS</td>\n",
       "      <td>0</td>\n",
       "    </tr>\n",
       "    <tr>\n",
       "      <td>1</td>\n",
       "      <td>I am trying to understand what kinds of places...</td>\n",
       "      <td>It might be helpful to look into the definitio...</td>\n",
       "      <td>CULTURE</td>\n",
       "      <td>1</td>\n",
       "    </tr>\n",
       "    <tr>\n",
       "      <td>2</td>\n",
       "      <td>I'm working on a PCB that has through-hole com...</td>\n",
       "      <td>Do you even need grooves?  We make several pro...</td>\n",
       "      <td>SCIENCE</td>\n",
       "      <td>2</td>\n",
       "    </tr>\n",
       "    <tr>\n",
       "      <td>3</td>\n",
       "      <td>An affidavit, from what i understand, is basic...</td>\n",
       "      <td>Sending an \"affidavit\" it is a dispute between...</td>\n",
       "      <td>CULTURE</td>\n",
       "      <td>1</td>\n",
       "    </tr>\n",
       "    <tr>\n",
       "      <td>4</td>\n",
       "      <td>I am trying to make a binary image. I want mor...</td>\n",
       "      <td>Check out Image Trace in Adobe Illustrator. \\n...</td>\n",
       "      <td>LIFE_ARTS</td>\n",
       "      <td>0</td>\n",
       "    </tr>\n",
       "  </tbody>\n",
       "</table>\n",
       "</div>"
      ],
      "text/plain": [
       "                                       question_body  \\\n",
       "0  After playing around with macro photography on...   \n",
       "1  I am trying to understand what kinds of places...   \n",
       "2  I'm working on a PCB that has through-hole com...   \n",
       "3  An affidavit, from what i understand, is basic...   \n",
       "4  I am trying to make a binary image. I want mor...   \n",
       "\n",
       "                                              answer   category  category_id  \n",
       "0  I just got extension tubes, so here's the skin...  LIFE_ARTS            0  \n",
       "1  It might be helpful to look into the definitio...    CULTURE            1  \n",
       "2  Do you even need grooves?  We make several pro...    SCIENCE            2  \n",
       "3  Sending an \"affidavit\" it is a dispute between...    CULTURE            1  \n",
       "4  Check out Image Trace in Adobe Illustrator. \\n...  LIFE_ARTS            0  "
      ]
     },
     "execution_count": 6,
     "metadata": {},
     "output_type": "execute_result"
    }
   ],
   "source": [
    "# Setting category id for the target\n",
    "# Assign ID to 5 values in category \n",
    "train['category_id']=train['category'].factorize()[0] \n",
    "# Set category to id and id to category\n",
    "category_id_df = train[['category','category_id']].drop_duplicates().sort_values('category_id')\n",
    "# Set category to id\n",
    "category_to_id = dict(category_id_df.values)\n",
    "# Set id to category\n",
    "id_to_category = dict(category_id_df[['category_id','category']].values)\n",
    "print(\"ID to Category:\", id_to_category)\n",
    "print(\"Category to ID:\", category_to_id)\n",
    "train.head()"
   ]
  },
  {
   "cell_type": "code",
   "execution_count": 19,
   "metadata": {},
   "outputs": [
    {
     "name": "stderr",
     "output_type": "stream",
     "text": [
      "C:\\Users\\Jennie\\Anaconda3\\lib\\site-packages\\ipykernel_launcher.py:15: SettingWithCopyWarning: \n",
      "A value is trying to be set on a copy of a slice from a DataFrame.\n",
      "Try using .loc[row_indexer,col_indexer] = value instead\n",
      "\n",
      "See the caveats in the documentation: http://pandas.pydata.org/pandas-docs/stable/user_guide/indexing.html#returning-a-view-versus-a-copy\n",
      "  from ipykernel import kernelapp as app\n"
     ]
    },
    {
     "data": {
      "text/html": [
       "<div>\n",
       "<style scoped>\n",
       "    .dataframe tbody tr th:only-of-type {\n",
       "        vertical-align: middle;\n",
       "    }\n",
       "\n",
       "    .dataframe tbody tr th {\n",
       "        vertical-align: top;\n",
       "    }\n",
       "\n",
       "    .dataframe thead th {\n",
       "        text-align: right;\n",
       "    }\n",
       "</style>\n",
       "<table border=\"1\" class=\"dataframe\">\n",
       "  <thead>\n",
       "    <tr style=\"text-align: right;\">\n",
       "      <th></th>\n",
       "      <th>question_body</th>\n",
       "      <th>answer</th>\n",
       "      <th>category</th>\n",
       "      <th>category_id</th>\n",
       "    </tr>\n",
       "  </thead>\n",
       "  <tbody>\n",
       "    <tr>\n",
       "      <td>0</td>\n",
       "      <td>see questions/information online get rid corps...</td>\n",
       "      <td>consequence leaving corps anywhere . leave mar...</td>\n",
       "      <td>CULTURE</td>\n",
       "      <td>1</td>\n",
       "    </tr>\n",
       "    <tr>\n",
       "      <td>1</td>\n",
       "      <td>new wordpress . issue feature image . need add...</td>\n",
       "      <td>think possible custom field . add custom field...</td>\n",
       "      <td>TECHNOLOGY</td>\n",
       "      <td>4</td>\n",
       "    </tr>\n",
       "    <tr>\n",
       "      <td>2</td>\n",
       "      <td>experiment started bot game , toggled invincib...</td>\n",
       "      <td>armour screenshots . suggests affected large a...</td>\n",
       "      <td>CULTURE</td>\n",
       "      <td>1</td>\n",
       "    </tr>\n",
       "    <tr>\n",
       "      <td>3</td>\n",
       "      <td>used raspberry pi torrent-server quite . weste...</td>\n",
       "      <td>western digital hard drive disappearing shown ...</td>\n",
       "      <td>TECHNOLOGY</td>\n",
       "      <td>4</td>\n",
       "    </tr>\n",
       "    <tr>\n",
       "      <td>4</td>\n",
       "      <td>bought delhi-london return flight 4 saudi airl...</td>\n",
       "      <td>called two person work saudia ( ticketing agen...</td>\n",
       "      <td>CULTURE</td>\n",
       "      <td>1</td>\n",
       "    </tr>\n",
       "  </tbody>\n",
       "</table>\n",
       "</div>"
      ],
      "text/plain": [
       "                                       question_body  \\\n",
       "0  see questions/information online get rid corps...   \n",
       "1  new wordpress . issue feature image . need add...   \n",
       "2  experiment started bot game , toggled invincib...   \n",
       "3  used raspberry pi torrent-server quite . weste...   \n",
       "4  bought delhi-london return flight 4 saudi airl...   \n",
       "\n",
       "                                              answer    category  category_id  \n",
       "0  consequence leaving corps anywhere . leave mar...     CULTURE            1  \n",
       "1  think possible custom field . add custom field...  TECHNOLOGY            4  \n",
       "2  armour screenshots . suggests affected large a...     CULTURE            1  \n",
       "3  western digital hard drive disappearing shown ...  TECHNOLOGY            4  \n",
       "4  called two person work saudia ( ticketing agen...     CULTURE            1  "
      ]
     },
     "execution_count": 19,
     "metadata": {},
     "output_type": "execute_result"
    }
   ],
   "source": [
    "category_id_df\n",
    "A = []\n",
    "for i in test.category:\n",
    "    if i == \"LIFE_ARTS\":\n",
    "        category_id = 0\n",
    "    elif i == \"CULTURE\":\n",
    "        category_id = 1\n",
    "    elif i == \"SCIENCE\":\n",
    "        category_id = 2\n",
    "    elif i == \"STACKOVERFLOW\":\n",
    "        category_id = 3\n",
    "    else:\n",
    "        category_id = 4\n",
    "    A.append(category_id)\n",
    "test['category_id'] = A\n",
    "test.head()"
   ]
  },
  {
   "cell_type": "markdown",
   "metadata": {},
   "source": [
    "- Initial Data Exploratory on Multi-class Target"
   ]
  },
  {
   "cell_type": "code",
   "execution_count": 7,
   "metadata": {},
   "outputs": [
    {
     "name": "stdout",
     "output_type": "stream",
     "text": [
      "Observation Distribution in Training Data (%):\n",
      "TECHNOLOGY       40.0\n",
      "STACKOVERFLOW    21.0\n",
      "CULTURE          16.0\n",
      "SCIENCE          12.0\n",
      "LIFE_ARTS        12.0\n",
      "Name: category, dtype: float64\n"
     ]
    },
    {
     "data": {
      "text/plain": [
       "Text(0.5, 1.0, 'Observations Distribution of Classes')"
      ]
     },
     "execution_count": 7,
     "metadata": {},
     "output_type": "execute_result"
    },
    {
     "data": {
      "image/png": "[encoded data removed]",
      "text/plain": [
       "<Figure size 720x432 with 1 Axes>"
      ]
     },
     "metadata": {
      "needs_background": "light"
     },
     "output_type": "display_data"
    }
   ],
   "source": [
    "# Number of observations\n",
    "print(\"Observation Distribution in Training Data (%):\")\n",
    "print(round((train.category.value_counts()/len(train.category))*100))\n",
    "# Create a bar chat of distribution of observations for each class\n",
    "plt.figure(figsize=(10,6))\n",
    "sns.countplot(x=\"category\", data=train, palette=\"Set2\", saturation = 1).set_title(\"Observations Distribution of Classes\")"
   ]
  },
  {
   "cell_type": "markdown",
   "metadata": {},
   "source": [
    "### **`Problem - Imbalanced Classes`**\n",
    "\n",
    "- Based on the **Category** distribution graph, one possible problem has emerged, which is **imbalanced classes**. Number of observations for **Technology** is **extremely higher** than other clasees. When encountering such problem, there are absolutely difficulties with standard algorithms since they can be more biased towards the majority class. Furthermore, it can affect the accuracy rate. \n",
    "- However, one **solution** here is **oversampling** the training features before fitting the model. This methodology will be implemented after feature engineering\n",
    "\n",
    "# ___\n",
    "## Step 2: Text Preprocessing\n",
    "- Stopwords Removal\n",
    "- Stemming & Tokenization\n",
    "- Lowercase\n",
    "- Filter out non-character/non-alphabet"
   ]
  },
  {
   "cell_type": "code",
   "execution_count": 8,
   "metadata": {},
   "outputs": [],
   "source": [
    "from nltk.corpus import stopwords\n",
    "def preprocessing_text(text):\n",
    "    # Stopwords Removal\n",
    "    my_stopwords = stopwords.words('english')\n",
    "    # Stemming\n",
    "    wnl = nltk.WordNetLemmatizer()\n",
    "    tag_remove = re.compile(r'<[^>]+>')\n",
    "    text = tag_remove.sub('',text)\n",
    "    # tokenization\n",
    "    tokens = nltk.word_tokenize(text)\n",
    "    # alphabet / lowercase / stopwords removal\n",
    "    words = [w.lower() for w in tokens if w.isalpha if w.lower() not in my_stopwords]\n",
    "    stem = [wnl.lemmatize(w) for w in words]\n",
    "    clean_text = ' '.join(w for w in stem)\n",
    "    clean_text = clean_text.replace(\"``\",\"\")\n",
    "    return clean_text"
   ]
  },
  {
   "cell_type": "code",
   "execution_count": 9,
   "metadata": {},
   "outputs": [
    {
     "name": "stderr",
     "output_type": "stream",
     "text": [
      "C:\\Users\\Jennie\\Anaconda3\\lib\\site-packages\\ipykernel_launcher.py:2: SettingWithCopyWarning: \n",
      "A value is trying to be set on a copy of a slice from a DataFrame.\n",
      "Try using .loc[row_indexer,col_indexer] = value instead\n",
      "\n",
      "See the caveats in the documentation: http://pandas.pydata.org/pandas-docs/stable/user_guide/indexing.html#returning-a-view-versus-a-copy\n",
      "  \n",
      "C:\\Users\\Jennie\\Anaconda3\\lib\\site-packages\\ipykernel_launcher.py:4: SettingWithCopyWarning: \n",
      "A value is trying to be set on a copy of a slice from a DataFrame.\n",
      "Try using .loc[row_indexer,col_indexer] = value instead\n",
      "\n",
      "See the caveats in the documentation: http://pandas.pydata.org/pandas-docs/stable/user_guide/indexing.html#returning-a-view-versus-a-copy\n",
      "  after removing the cwd from sys.path.\n",
      "C:\\Users\\Jennie\\Anaconda3\\lib\\site-packages\\ipykernel_launcher.py:6: SettingWithCopyWarning: \n",
      "A value is trying to be set on a copy of a slice from a DataFrame.\n",
      "Try using .loc[row_indexer,col_indexer] = value instead\n",
      "\n",
      "See the caveats in the documentation: http://pandas.pydata.org/pandas-docs/stable/user_guide/indexing.html#returning-a-view-versus-a-copy\n",
      "  \n",
      "C:\\Users\\Jennie\\Anaconda3\\lib\\site-packages\\ipykernel_launcher.py:8: SettingWithCopyWarning: \n",
      "A value is trying to be set on a copy of a slice from a DataFrame.\n",
      "Try using .loc[row_indexer,col_indexer] = value instead\n",
      "\n",
      "See the caveats in the documentation: http://pandas.pydata.org/pandas-docs/stable/user_guide/indexing.html#returning-a-view-versus-a-copy\n",
      "  \n"
     ]
    }
   ],
   "source": [
    "# Preprocess ##question for training data\n",
    "train['question_body'] = train['question_body'].apply(lambda x:preprocessing_text(x))\n",
    "# Preprocess ##answer for training data\n",
    "train['answer'] = train['answer'].apply(lambda x:preprocessing_text(x))\n",
    "# Preprocess ##question for testing data\n",
    "test['question_body'] = test['question_body'].apply(lambda x:preprocessing_text(x))\n",
    "# Preprocess ##answer for testing data\n",
    "test['answer'] = test['answer'].apply(lambda x:preprocessing_text(x))"
   ]
  },
  {
   "cell_type": "code",
   "execution_count": 20,
   "metadata": {},
   "outputs": [],
   "source": [
    "train_question, test_question, train_labels, test_labels = train.question_body.tolist(), test.question_body.tolist(), train.category_id.tolist(), test.category_id.tolist()\n",
    "train_answer, test_answer, train_labels, test_labels = train.answer.tolist(), test.answer.tolist(), train.category_id.tolist(), test.category_id.tolist()"
   ]
  },
  {
   "cell_type": "code",
   "execution_count": 21,
   "metadata": {},
   "outputs": [
    {
     "data": {
      "text/plain": [
       "\"trying understand kind place spam value p 231 refer 5th edition main book shadowrun . per p 15 , sprawl plex , plex  metropolitan complex , short metroplex '' . per google metroplex  large metropolitan area , especially one aggregation two city '' . city downtown sprawl downtown would tend similar density , reason sprawl ( includes suburb ? ) higher spam zone noise rating ( p 231 ) . similarly , 'd think downtown dense noisy ( e.g . office building street vendor ) commercial district , e.g . outdoor mall . noise rating make think thinking incorrectly . better way thinking ?\""
      ]
     },
     "execution_count": 21,
     "metadata": {},
     "output_type": "execute_result"
    }
   ],
   "source": [
    "train_question[1]"
   ]
  },
  {
   "cell_type": "markdown",
   "metadata": {},
   "source": [
    "# ___\n",
    "## Step 3: Feature Engineering\n",
    "\n",
    "- There are 3 features were created during the process: BOW, TFIDF and Word2Vec. This part demonstrate the **best** feature **TFIDF** that help to achieve the highest accuracy. \n",
    "- For information about **BOW** and **Word2Vec**, visit **Step 9: Appendix**"
   ]
  },
  {
   "cell_type": "code",
   "execution_count": 22,
   "metadata": {},
   "outputs": [],
   "source": [
    "# TFIDF features\n",
    "from sklearn.feature_extraction.text import TfidfVectorizer\n",
    "\n",
    "tfidf_vectorizer = TfidfVectorizer(sublinear_tf=True, # use logarithmic form for frequency\n",
    "                                    min_df=1, # The minimum numbers of document a word must be present to be kept\n",
    "                                   norm='l2', # Ensure all features vectors have a eulicidean norm of 1\n",
    "                                   encoding='latin-1',\n",
    "                                   smooth_idf=True,\n",
    "                                   use_idf=True, \n",
    "                                   ngram_range=(1,2)) #unigram and bigram\n",
    "\n",
    "# QUESTION - TFIDF\n",
    "tfidf_train_question = tfidf_vectorizer.fit_transform(train_question)\n",
    "tfidf_test_question = tfidf_vectorizer.transform(test_question)\n",
    "\n",
    "# ANSWER - TFIDF\n",
    "tfidf_train_answer = tfidf_vectorizer.fit_transform(train_answer)\n",
    "tfidf_test_answer = tfidf_vectorizer.transform(test_answer) "
   ]
  },
  {
   "cell_type": "markdown",
   "metadata": {},
   "source": [
    "**Find the terms that are the most correlated with each topic [Question]**"
   ]
  },
  {
   "cell_type": "code",
   "execution_count": 14,
   "metadata": {},
   "outputs": [
    {
     "name": "stdout",
     "output_type": "stream",
     "text": [
      "# TOPIC: 'CULTURE':\n",
      "  . Most correlated unigrams:\n",
      ". australia\n",
      ". extradition\n",
      ". infected\n",
      ". facelet\n",
      ". brush\n",
      "  . Most correlated bigrams:\n",
      ". code andrew\n",
      ". data matasano\n",
      ". anything using\n",
      ". invalidoperationexception change\n",
      ". mysql get\n",
      "# TOPIC: 'LIFE_ARTS':\n",
      "  . Most correlated unigrams:\n",
      ". cours\n",
      ". coil\n",
      ". date\n",
      ". fridge\n",
      ". accountant\n",
      "  . Most correlated bigrams:\n",
      ". ask rate\n",
      ". display tag\n",
      ". harder applying\n",
      ". library nautilus\n",
      ". energy generally\n",
      "# TOPIC: 'SCIENCE':\n",
      "  . Most correlated unigrams:\n",
      ". extensibility\n",
      ". downsize\n",
      ". destiny\n",
      ". divs\n",
      ". logo\n",
      "  . Most correlated bigrams:\n",
      ". hearing work\n",
      ". cnt select\n",
      ". hand account\n",
      ". could update\n",
      ". expression local\n",
      "# TOPIC: 'STACKOVERFLOW':\n",
      "  . Most correlated unigrams:\n",
      ". fk_storenum_previousfinished\n",
      ". condensor\n",
      ". affixed\n",
      ". ledonms\n",
      ". backup_dir\n",
      "  . Most correlated bigrams:\n",
      ". basically kurtosis\n",
      ". level amp\n",
      ". debate conclusion\n",
      ". decorative piece\n",
      ". exact specific\n",
      "# TOPIC: 'TECHNOLOGY':\n",
      "  . Most correlated unigrams:\n",
      ". datacolumn\n",
      ". drupal_add_css\n",
      ". chbr\n",
      ". erratum\n",
      ". multiplexing\n",
      "  . Most correlated bigrams:\n",
      ". involved judgement\n",
      ". flash frequency\n",
      ". dogflap page\n",
      ". kernel img\n",
      ". martin smith\n"
     ]
    }
   ],
   "source": [
    "from sklearn.feature_selection import chi2\n",
    "features = tfidf_train_question\n",
    "labels = train.category_id\n",
    "N = 5 # extract the 5 terms that are most relating to each topic\n",
    "for category, category_id in sorted(category_to_id.items()):\n",
    "    features_chi = chi2(features, labels == category_id)\n",
    "    index = np.argsort(features_chi[0])\n",
    "    feature_names = np.array(tfidf_vectorizer.get_feature_names())[index]\n",
    "    unigrams = [w for w in feature_names if len(w.split(' ')) == 1]\n",
    "    bigrams = [w for w in feature_names if len(w.split(' ')) == 2]\n",
    "    print(\"# TOPIC: '{}':\".format(category))\n",
    "    print(\"  . Most correlated unigrams:\\n. {}\".format('\\n. '.join(unigrams[-N:])))\n",
    "    print(\"  . Most correlated bigrams:\\n. {}\".format('\\n. '.join(bigrams[-N:])))"
   ]
  },
  {
   "cell_type": "code",
   "execution_count": 15,
   "metadata": {},
   "outputs": [
    {
     "name": "stdout",
     "output_type": "stream",
     "text": [
      "# TOPIC: 'CULTURE':\n",
      "  . Most correlated unigrams:\n",
      ". bike\n",
      ". god\n",
      ". english\n",
      ". game\n",
      ". word\n",
      "  . Most correlated bigrams:\n",
      ". move something\n",
      ". native speaker\n",
      ". work ability\n",
      ". present tense\n",
      ". could say\n",
      "# TOPIC: 'LIFE_ARTS':\n",
      "  . Most correlated unigrams:\n",
      ". phd\n",
      ". tax\n",
      ". camera\n",
      ". student\n",
      ". lens\n",
      "  . Most correlated bigrams:\n",
      ". credit score\n",
      ". white balance\n",
      ". zoom lens\n",
      ". star trek\n",
      ". focal length\n",
      "# TOPIC: 'SCIENCE':\n",
      "  . Most correlated unigrams:\n",
      ". times\n",
      ". electron\n",
      ". energy\n",
      ". mathbb\n",
      ". frac\n",
      "  . Most correlated bigrams:\n",
      ". black hole\n",
      ". angular momentum\n",
      ". potential energy\n",
      ". in mathbb\n",
      ". frac frac\n",
      "# TOPIC: 'STACKOVERFLOW':\n",
      "  . Most correlated unigrams:\n",
      ". void\n",
      ". string\n",
      ". return\n",
      ". gt\n",
      ". lt\n",
      "  . Most correlated bigrams:\n",
      ". public void\n",
      ". public class\n",
      ". div gt\n",
      ". lt div\n",
      ". gt lt\n",
      "# TOPIC: 'TECHNOLOGY':\n",
      "  . Most correlated unigrams:\n",
      ". usepackage\n",
      ". sudo\n",
      ". install\n",
      ". ubuntu\n",
      ". server\n",
      "  . Most correlated bigrams:\n",
      ". ip address\n",
      ". sudo apt\n",
      ". apt get\n",
      ". end document\n",
      ". begin document\n"
     ]
    }
   ],
   "source": [
    "from sklearn.feature_selection import chi2\n",
    "features = tfidf_train_answer\n",
    "labels = train.category_id\n",
    "N = 5 # extract the 5 terms that are most relating to each topic\n",
    "for category, category_id in sorted(category_to_id.items()):\n",
    "    features_chi = chi2(features, labels == category_id)\n",
    "    index = np.argsort(features_chi[0])\n",
    "    feature_names = np.array(tfidf_vectorizer.get_feature_names())[index]\n",
    "    unigrams = [w for w in feature_names if len(w.split(' ')) == 1]\n",
    "    bigrams = [w for w in feature_names if len(w.split(' ')) == 2]\n",
    "    print(\"# TOPIC: '{}':\".format(category))\n",
    "    print(\"  . Most correlated unigrams:\\n. {}\".format('\\n. '.join(unigrams[-N:])))\n",
    "    print(\"  . Most correlated bigrams:\\n. {}\".format('\\n. '.join(bigrams[-N:])))"
   ]
  },
  {
   "cell_type": "markdown",
   "metadata": {},
   "source": [
    "# ___\n",
    "## Step 4: Over Sampling\n",
    "\n",
    "- The method of over sampling are used with `SMOTE` - This will randomly oversample obervations for each category until they are equally distributed among the train data. \n",
    "\n",
    "- Oversampling is only implemented on training data"
   ]
  },
  {
   "cell_type": "code",
   "execution_count": 23,
   "metadata": {},
   "outputs": [],
   "source": [
    "# Setup of packages needed\n",
    "# SMOTE\n",
    "import imblearn\n",
    "# print(imblearn.__version__)\n",
    "from imblearn.over_sampling import SMOTE #use for oversampling\n",
    "from collections import Counter\n",
    "# X: input for oversampling\n",
    "# y: target label for oversampling\n",
    "oversample = SMOTE()\n",
    "X_train_question, y_train_question = oversample.fit_resample(tfidf_train_question, train_labels)\n",
    "X_train_answer, y_train_answer = oversample.fit_resample(tfidf_train_answer, train_labels)"
   ]
  },
  {
   "cell_type": "code",
   "execution_count": 24,
   "metadata": {},
   "outputs": [
    {
     "data": {
      "text/plain": [
       "Counter({0: 2441, 1: 2441, 2: 2441, 3: 2441, 4: 2441})"
      ]
     },
     "execution_count": 24,
     "metadata": {},
     "output_type": "execute_result"
    },
    {
     "data": {
      "image/png": "[encoded data removed]",
      "text/plain": [
       "<Figure size 576x360 with 1 Axes>"
      ]
     },
     "metadata": {
      "needs_background": "light"
     },
     "output_type": "display_data"
    }
   ],
   "source": [
    "# The distribution of observations in those dataset\n",
    "counter = Counter(y_train_question)\n",
    "plt.figure(figsize=(8,5))\n",
    "plt.bar(counter.keys(), counter.values())\n",
    "counter"
   ]
  },
  {
   "cell_type": "code",
   "execution_count": 26,
   "metadata": {},
   "outputs": [
    {
     "data": {
      "text/plain": [
       "Counter({0: 2441, 1: 2441, 2: 2441, 3: 2441, 4: 2441})"
      ]
     },
     "execution_count": 26,
     "metadata": {},
     "output_type": "execute_result"
    },
    {
     "data": {
      "image/png": "[encoded data removed]",
      "text/plain": [
       "<Figure size 576x360 with 1 Axes>"
      ]
     },
     "metadata": {
      "needs_background": "light"
     },
     "output_type": "display_data"
    }
   ],
   "source": [
    "counter = Counter(y_train_answer)\n",
    "plt.figure(figsize=(8,5))\n",
    "plt.bar(counter.keys(), counter.values())\n",
    "counter"
   ]
  },
  {
   "cell_type": "markdown",
   "metadata": {},
   "source": [
    "After oversampling, the observations in all category are equal to one another."
   ]
  },
  {
   "cell_type": "markdown",
   "metadata": {},
   "source": [
    "# ___\n",
    "## Step 5: Model Building\n",
    "\n",
    "- Define matrix for evaluation: Accuracy, Precision, Recall, F1 Score\n",
    "- Define how to train and evaluate classifiers\n",
    "- Building the models"
   ]
  },
  {
   "cell_type": "code",
   "execution_count": 25,
   "metadata": {},
   "outputs": [],
   "source": [
    "# Define matrix for evaluation\n",
    "from sklearn import metrics\n",
    "# define a function to evaluate our classification models based on four metrics\n",
    "def get_metrics(true_labels, predicted_labels): \n",
    "    print('Accuracy:', np.round(metrics.accuracy_score(true_labels,\n",
    "                                                        predicted_labels),5)) \n",
    "    print('Precision:', np.round(metrics.precision_score(true_labels,\n",
    "                                                         predicted_labels,\n",
    "                                                         average='weighted',\n",
    "                                                         zero_division=1),5)) \n",
    "    # average parameter is required for multiclass target multiple labels\n",
    "    print('Recall:', np.round(metrics.recall_score(true_labels, \n",
    "                                                   predicted_labels,\n",
    "                                                   average='weighted',\n",
    "                                                   zero_division=1),5)) \n",
    "    # average parameter is required for multiclass target multiple labels\n",
    "    print('F1 Score:',np.round(metrics.f1_score(true_labels,\n",
    "                                               predicted_labels,\n",
    "                                               average='weighted',\n",
    "                                               zero_division=1),5)) \n",
    "    # average parameter is required for multiclass target multiple labels\n",
    "    "
   ]
  },
  {
   "cell_type": "code",
   "execution_count": 27,
   "metadata": {},
   "outputs": [],
   "source": [
    "# Define a function that trains the model, performs predictions and evaluates the predictions\n",
    "def train_predict_evaluate_model(classifier,\n",
    "                                train_features, train_labels,\n",
    "                                 test_features, test_labels):\n",
    "    # Build model\n",
    "    classifier.fit(train_features, train_labels)\n",
    "    # Predict using model\n",
    "    predictions = classifier.predict(test_features)\n",
    "    # Evaluate model prediction performance\n",
    "    get_metrics(true_labels=test_labels,\n",
    "               predicted_labels=predictions)\n",
    "    return predictions"
   ]
  },
  {
   "cell_type": "markdown",
   "metadata": {},
   "source": [
    "**Model Building for Multi-class Classification**\n",
    "- Naive Bayes\n",
    "- Support Vector Machine (SDGC)\n",
    "- Decision Tree\n",
    "- Random Forest"
   ]
  },
  {
   "cell_type": "code",
   "execution_count": 28,
   "metadata": {},
   "outputs": [],
   "source": [
    "# Model Building\n",
    "from sklearn.naive_bayes import MultinomialNB # Naive Bayes \n",
    "from sklearn.linear_model import SGDClassifier # Support Vector Machine (SDG)\n",
    "from sklearn.tree import DecisionTreeClassifier # Decision Tree\n",
    "from sklearn.ensemble import RandomForestClassifier #RandomForestClassifier\n",
    "\n",
    "mnb = MultinomialNB() # Naive Bayes\n",
    "svm = SGDClassifier(loss='hinge', max_iter=100) # SVM SDG\n",
    "dct = DecisionTreeClassifier(criterion = \"entropy\", # Decision Tree\n",
    "                             # set criterion as entropy for the information gain \n",
    "                             #(measure the quality of the split)\n",
    "                             random_state = 0)\n",
    "rf = RandomForestClassifier(n_estimators=200, max_depth=3, random_state=0) # Random Forest"
   ]
  },
  {
   "cell_type": "markdown",
   "metadata": {},
   "source": [
    "# ___\n",
    "## Step 6: Model Selection\n",
    "- Fit and evaluate Naive Bayes, SVM, Decision Tree & Random Forest with TFIDF\n",
    "- Evaluate the models based on the accuracy rate from the training set\n",
    "- Models accuracy visualization\n",
    "\n",
    "### **`Note`**\n",
    "\n",
    "*This section **only features the models selection regarding TFIDF** - which are the **best models** built with the best feature regarding the category classification project.*\n",
    "\n",
    "*For further details on **other models selections** , please refers to **Step 9: Appendix**, which includes all the models and features we have tried before come up with the best model.*"
   ]
  },
  {
   "cell_type": "code",
   "execution_count": 29,
   "metadata": {},
   "outputs": [],
   "source": [
    "# Set up\n",
    "models = [mnb, svm, dct, rf]\n",
    "cross_validation = 5 # 5-fold cross validation\n",
    "cv_tfidf = pd.DataFrame(index=range(cross_validation*len(models)))"
   ]
  },
  {
   "cell_type": "markdown",
   "metadata": {},
   "source": [
    "### A. Question - Category Classification"
   ]
  },
  {
   "cell_type": "code",
   "execution_count": 30,
   "metadata": {},
   "outputs": [
    {
     "data": {
      "image/png": "[encoded data removed]",
      "text/plain": [
       "<Figure size 648x432 with 1 Axes>"
      ]
     },
     "metadata": {
      "needs_background": "light"
     },
     "output_type": "display_data"
    },
    {
     "data": {
      "text/plain": [
       "model name\n",
       "DecisionTreeClassifier    0.891602\n",
       "MultinomialNB             0.957149\n",
       "RandomForestClassifier    0.738304\n",
       "SGDClassifier             0.980008\n",
       "Name: accuracy, dtype: float64"
      ]
     },
     "execution_count": 30,
     "metadata": {},
     "output_type": "execute_result"
    }
   ],
   "source": [
    "entry = []\n",
    "for model in models:\n",
    "    model_name = model.__class__.__name__\n",
    "    accuracies = cross_val_score(model,X_train_question,y_train_question,scoring='accuracy',cv=cross_validation)\n",
    "    for fold_index, accuracy in enumerate(accuracies):\n",
    "        entry.append((model_name,fold_index,accuracy))\n",
    "    cv_tfidf=pd.DataFrame(entry, columns=['model name','fold_idx','accuracy'])\n",
    "\n",
    "plt.figure(figsize=(9,6))\n",
    "sns.boxplot(x='model name',y='accuracy',data=cv_tfidf)\n",
    "sns.stripplot(x='model name',y='accuracy',data=cv_tfidf,\n",
    "             size=9, jitter=True, edgecolor=\"gray\",linewidth=3)\n",
    "\n",
    "plt.show()\n",
    "cv_tfidf.groupby('model name').accuracy.mean() # The accuracy mean of those models"
   ]
  },
  {
   "cell_type": "markdown",
   "metadata": {},
   "source": [
    "#### **`Discussion | Question Category Classification | Model Selection`**\n",
    "- **Support Vector Machine** (SGDClassifier) performs the **best** with the highest accuracy rate of approximately **98%** on training data.\n",
    "- **Naive Bayes** performs **slightly less accurate** comparing to **Support Vector Machine** by **3%** on training data. \n",
    "- **Random Forest** and **Decision Tree** do not perform as well as other models on training data.\n",
    "#### => CONCLUSION: SUPPORT VECTOR MACHINE - 98% OF ACCURACY ON TRAINING\n",
    "\n",
    "### B. Answer - Category Classification"
   ]
  },
  {
   "cell_type": "code",
   "execution_count": 27,
   "metadata": {},
   "outputs": [
    {
     "data": {
      "image/png": "[encoded data removed]",
      "text/plain": [
       "<Figure size 648x432 with 1 Axes>"
      ]
     },
     "metadata": {
      "needs_background": "light"
     },
     "output_type": "display_data"
    },
    {
     "data": {
      "text/plain": [
       "model name\n",
       "DecisionTreeClassifier    0.685948\n",
       "MultinomialNB             0.915608\n",
       "RandomForestClassifier    0.653011\n",
       "SGDClassifier             0.951249\n",
       "Name: accuracy, dtype: float64"
      ]
     },
     "execution_count": 27,
     "metadata": {},
     "output_type": "execute_result"
    }
   ],
   "source": [
    "# Answer model selection\n",
    "entry = []\n",
    "for model in models:\n",
    "    model_name = model.__class__.__name__\n",
    "    accuracies = cross_val_score(model,X_train_answer,y_train_answer,scoring='accuracy',cv=cross_validation)\n",
    "    for fold_index, accuracy in enumerate(accuracies):\n",
    "        entry.append((model_name,fold_index,accuracy))\n",
    "    cv_tfidf=pd.DataFrame(entry, columns=['model name','fold_idx','accuracy'])\n",
    "\n",
    "plt.figure(figsize=(9,6))\n",
    "sns.boxplot(x='model name',y='accuracy',data=cv_tfidf)\n",
    "sns.stripplot(x='model name',y='accuracy',data=cv_tfidf,\n",
    "             size=9, jitter=True, edgecolor=\"gray\",linewidth=3)\n",
    "\n",
    "plt.show()\n",
    "cv_tfidf.groupby('model name').accuracy.mean() # The accuracy mean of those models"
   ]
  },
  {
   "cell_type": "markdown",
   "metadata": {},
   "source": [
    "#### **`Discussion | Answer Category Classification | Model Selection`**\n",
    "- **Support Vector Machine** (SGDClassifier) performs the **best** with the highest accuracy rate of approximately **95%** on training data.\n",
    "- **Naive Bayes** performs **slightly less accurate**, with **91%**, comparing to **Support Vector Machine** by **3%** on training data. \n",
    "- **Random Forest** and **Decision Tree** do not perform as well as other models on training data. The accuracy for those models are roughly **64%** and **68%**, repectively\n",
    "#### => CONCLUSION: SUPPORT VECTOR MACHINE - 95% OF ACCURACY ON TRAINING"
   ]
  },
  {
   "cell_type": "markdown",
   "metadata": {},
   "source": [
    "# ___\n",
    "## Step 7: Model Evaluations | Support Vector Machine \n",
    "- Fit the best model and evaluate on the **testing set**\n",
    "- Confusion Matrix\n",
    "\n",
    "### A. Question | SVM{TFIDF} Evaluation"
   ]
  },
  {
   "cell_type": "code",
   "execution_count": 31,
   "metadata": {},
   "outputs": [
    {
     "name": "stdout",
     "output_type": "stream",
     "text": [
      "Accuracy: 0.7458\n",
      "Precision: 0.74719\n",
      "Recall: 0.7458\n",
      "F1 Score: 0.74471\n"
     ]
    }
   ],
   "source": [
    "# Question\n",
    "svm_tfidf_predictions_question = train_predict_evaluate_model(classifier=svm,\n",
    "                                                 train_features=X_train_question,\n",
    "                                                 train_labels=y_train_question,\n",
    "                                                 test_features=tfidf_test_question,\n",
    "                                                 test_labels=test_labels)"
   ]
  },
  {
   "cell_type": "markdown",
   "metadata": {},
   "source": [
    "### **`Question | Confusion Matrix`**\n",
    "\n",
    "- Using `metrics.confusion_matrix` from scikitlearn to create the confusion matrix for predictions\n",
    "- Visualize confusion matrix with `heatmap` from `seaborn`"
   ]
  },
  {
   "cell_type": "code",
   "execution_count": 32,
   "metadata": {},
   "outputs": [
    {
     "data": {
      "image/png": "[encoded data removed]",
      "text/plain": [
       "<Figure size 576x432 with 2 Axes>"
      ]
     },
     "metadata": {
      "needs_background": "light"
     },
     "output_type": "display_data"
    }
   ],
   "source": [
    "# Create a confusion matrix for question\n",
    "cm_q = metrics.confusion_matrix(test_labels,svm_tfidf_predictions_question)\n",
    "# Visualize the confusion matrix with heatmap\n",
    "plt.figure(figsize=(8,6))\n",
    "sns.heatmap(cm_q,\n",
    "           annot = True,\n",
    "           fmt = \"d\",\n",
    "           center = 0,\n",
    "           xticklabels = category_id_df.category.values,\n",
    "           yticklabels = category_id_df.category.values)\n",
    "plt.ylabel('Actual')\n",
    "plt.xlabel('Predicted')\n",
    "plt.show()"
   ]
  },
  {
   "cell_type": "code",
   "execution_count": 34,
   "metadata": {},
   "outputs": [
    {
     "name": "stdout",
     "output_type": "stream",
     "text": [
      "               precision    recall  f1-score   support\n",
      "\n",
      "    LIFE_ARTS       0.63      0.66      0.65        47\n",
      "      CULTURE       0.80      0.69      0.74        64\n",
      "      SCIENCE       0.78      0.79      0.79        58\n",
      "STACKOVERFLOW       0.75      0.66      0.70       103\n",
      "   TECHNOLOGY       0.75      0.81      0.78       204\n",
      "\n",
      "     accuracy                           0.75       476\n",
      "    macro avg       0.74      0.72      0.73       476\n",
      " weighted avg       0.75      0.75      0.74       476\n",
      "\n"
     ]
    }
   ],
   "source": [
    "# Evaluate each category\n",
    "print(metrics.classification_report(test_labels, svm_tfidf_predictions_question, target_names=category_id_df.category.values))"
   ]
  },
  {
   "cell_type": "code",
   "execution_count": 31,
   "metadata": {},
   "outputs": [
    {
     "data": {
      "text/plain": [
       "array([[ 45,   9,   5,   0,   5],\n",
       "       [  5,  32,   1,   0,   9],\n",
       "       [  2,   3,  45,   2,   6],\n",
       "       [  1,   0,   1,  68,  33],\n",
       "       [  3,   5,   6,  22, 168]], dtype=int64)"
      ]
     },
     "execution_count": 31,
     "metadata": {},
     "output_type": "execute_result"
    }
   ],
   "source": [
    "cm_q"
   ]
  },
  {
   "cell_type": "markdown",
   "metadata": {},
   "source": [
    "### **`Examples of miss classification`**"
   ]
  },
  {
   "cell_type": "code",
   "execution_count": 209,
   "metadata": {},
   "outputs": [
    {
     "name": "stdout",
     "output_type": "stream",
     "text": [
      "Actual Label: CULTURE\n",
      "Predicted Label: LIFE_ARTS\n",
      "Document:-\n",
      "I see questions/information online about how to get rid of corpses but I'm not sure what the consequences to having them lying around are.  I know that I can use a morgue to store them and that they will eventually be taken away in a hearse. However, I've always just left them lying around. This doesn't seem to have any obvious consequences.  Do they upset prisoners or staff (e.g. increasing the danger level beyond what death normally does)? Make them sick? Slow down pathing? Is this something that's not implemented yet or is leaving dead bodies all over the place meant to be completely fine?  The wiki's pages for Death and Morgue don't shed any light on this. All I'm finding is the how of getting rid of corpses/glitches related to it but not why it matters in the first place. All I've seen that's related is that apparently prisoners can loot guard corpses for keys, but there's no obvious consequences for prisoner corpses which are what I tend to end up with.  So why not just leave them in the corridors? \n",
      "Actual Label: CULTURE\n",
      "Predicted Label: LIFE_ARTS\n",
      "Document:-\n",
      "To experiment I started a bot game, toggled invincibility and let the bots attack me. There were two clear hit effects: a major one that tilts view up a lot and sideways and a minor one that only tilts it up.  So I tried releasing single shots exactly at the tilts: during a major one a single bullet ended up here (slightly covered by text). Actually the crosshair never moves that high so there tends to be a good amount of additional upward deviation of single shots fired.  But when single-shooting during the minor tilts the marks seemed to end up exactly at the location of the crosshair.  Now, when switching to spraying while being shot this pattern emerged. This was mostly caused by the minor tilts and, I guess, \"standard recoil\". Occasionally a major tilt caused a single bullet to lie severly outside of the depicted cone. \n",
      "Actual Label: CULTURE\n",
      "Predicted Label: SCIENCE\n",
      "Document:-\n",
      "I understand that elites with the Avenger property get stronger as the others in the pack with that property die, but how exactly do they get stronger?  I'm looking for hard numbers. \n",
      "Actual Label: LIFE_ARTS\n",
      "Predicted Label: CULTURE\n",
      "Document:-\n",
      "There is a scene in 21 Jumpstreet where Dave Franco' character Eric says \"do you know what they'll do to me in prison it rhymes with grape\" and it made me curious as to why it was phrased that way.   In Knocked Up a similar joke was made \"it rhymes with smabortion\" which I believe I read was done due to censors. However the repeating setup for the joke has me curious if this time it was due to censors or if it was just considered a funny setup that bared repeating. So was it censoring or continuing a joke? \n",
      "Actual Label: TECHNOLOGY\n",
      "Predicted Label: STACKOVERFLOW\n",
      "Document:-\n",
      "what is the location of imei number for android 2.3.3 ?   my phone blacked out after I factory resetted my phone. And need to restore my imei back on my  htc droid incredible 2 \n"
     ]
    }
   ],
   "source": [
    "num = 0\n",
    "for document, label, predicted_label in zip(df_test.question_body,test_labels, svm_tfidf_predictions_question):\n",
    "    if predicted_label != label:\n",
    "        print('Actual Label:', label)\n",
    "        print('Predicted Label:', predicted_label)\n",
    "        print('Document:-')\n",
    "        print(re.sub('\\n',' ', document))\n",
    "        num += 1\n",
    "        if num == 5:\n",
    "            break"
   ]
  },
  {
   "cell_type": "markdown",
   "metadata": {},
   "source": [
    "### B. Answer | SVM{TFIDF} Evaluation"
   ]
  },
  {
   "cell_type": "code",
   "execution_count": 36,
   "metadata": {},
   "outputs": [
    {
     "name": "stdout",
     "output_type": "stream",
     "text": [
      "Accuracy: 0.7416\n",
      "Precision: 0.74135\n",
      "Recall: 0.7416\n",
      "F1 Score: 0.73954\n"
     ]
    }
   ],
   "source": [
    "# Answer\n",
    "svm_tfidf_predictions_answer = train_predict_evaluate_model(classifier=svm,\n",
    "                                                 train_features=X_train_answer,\n",
    "                                                 train_labels=y_train_answer,\n",
    "                                                 test_features=tfidf_test_answer,\n",
    "                                                 test_labels=test_labels)"
   ]
  },
  {
   "cell_type": "markdown",
   "metadata": {},
   "source": [
    "### **`Answer | Confusion Matrix`**"
   ]
  },
  {
   "cell_type": "code",
   "execution_count": 37,
   "metadata": {},
   "outputs": [
    {
     "data": {
      "image/png": "[encoded data removed]",
      "text/plain": [
       "<Figure size 576x432 with 2 Axes>"
      ]
     },
     "metadata": {
      "needs_background": "light"
     },
     "output_type": "display_data"
    }
   ],
   "source": [
    "# Create a confusion matrix for question\n",
    "cm_a = metrics.confusion_matrix(test_labels,svm_tfidf_predictions_answer)\n",
    "# Visualize the confusion matrix with heatmap\n",
    "plt.figure(figsize=(8,6))\n",
    "sns.heatmap(cm_a,\n",
    "           annot = True,\n",
    "           fmt = \"d\",\n",
    "           center = 0,\n",
    "           xticklabels = category_id_df.category.values,\n",
    "           yticklabels = category_id_df.category.values)\n",
    "plt.ylabel('Actual')\n",
    "plt.xlabel('Predicted')\n",
    "plt.show()"
   ]
  },
  {
   "cell_type": "code",
   "execution_count": 38,
   "metadata": {},
   "outputs": [
    {
     "name": "stdout",
     "output_type": "stream",
     "text": [
      "               precision    recall  f1-score   support\n",
      "\n",
      "    LIFE_ARTS       0.68      0.81      0.74        47\n",
      "      CULTURE       0.88      0.78      0.83        64\n",
      "      SCIENCE       0.81      0.79      0.80        58\n",
      "STACKOVERFLOW       0.63      0.54      0.58       103\n",
      "   TECHNOLOGY       0.75      0.80      0.77       204\n",
      "\n",
      "     accuracy                           0.74       476\n",
      "    macro avg       0.75      0.75      0.74       476\n",
      " weighted avg       0.74      0.74      0.74       476\n",
      "\n"
     ]
    }
   ],
   "source": [
    "# Evaluate each category\n",
    "print(metrics.classification_report(test_labels, svm_tfidf_predictions_answer, target_names=category_id_df.category.values))"
   ]
  },
  {
   "cell_type": "code",
   "execution_count": 213,
   "metadata": {},
   "outputs": [
    {
     "data": {
      "text/plain": [
       "array([[ 51,   9,   2,   0,   2],\n",
       "       [  6,  37,   0,   1,   3],\n",
       "       [  1,   4,  46,   1,   6],\n",
       "       [  1,   1,   3,  54,  44],\n",
       "       [  1,   4,   5,  31, 163]], dtype=int64)"
      ]
     },
     "execution_count": 213,
     "metadata": {},
     "output_type": "execute_result"
    }
   ],
   "source": [
    "cm_a"
   ]
  },
  {
   "cell_type": "markdown",
   "metadata": {},
   "source": [
    "### **`Examples of Misclassification`"
   ]
  },
  {
   "cell_type": "code",
   "execution_count": 214,
   "metadata": {},
   "outputs": [
    {
     "name": "stdout",
     "output_type": "stream",
     "text": [
      "Actual Label: CULTURE\n",
      "Predicted Label: LIFE_ARTS\n",
      "Document:-\n",
      "There is no consequence for leaving corpses anywhere. All it does if leave a mark of failure in your path of making a fully functional prison. \n",
      "Actual Label: LIFE_ARTS\n",
      "Predicted Label: CULTURE\n",
      "Document:-\n",
      "Opinion: It was a funny(?) joke.  Although a similar setup was used in Knocked Up, the truth is similar setups have been used in plenty of comedy movies.  Whilst I understand your query regarding the censors, it seems difficult to imagine why censorship would be an issue, the main reason I can think of being:   There is a colossal amount of crass language, violence, partial nudity and drug taking in the film. Why would all this be considered acceptable but a line about rape wouldn't be?   It seems more likely to me that it was a funny line that works in the context of the scene as it seems so abhorrent that he can't bring himself to utter the actual word, instead resorting to childish rhyming (suggesting the mere thought of it makes him regress to his inner child in fear).   Whether it was a homage to his (extremely popular) line from Knocked Up is something I can find no reference to online, but solely in my own opinion, I can't see how this was a censorship issue. \n",
      "Actual Label: TECHNOLOGY\n",
      "Predicted Label: STACKOVERFLOW\n",
      "Document:-\n",
      "While I can't guarentee that this is what you are looking for (as you have not posted what your expected output should be), hopefully this will help.  Even if it's not exactly what you are looking for, you have the whole object for each term available to you so that you can manipulate the output exactly as you wish.  /** Grab the terms within the for the 'portfolio_cat' taxonomy for the current post */ $terms = wp_get_object_terms($post-&gt;ID, 'portfolio_cat'); // If you are in The Loop you can replace '$post-&gt;ID' with 'get_the_ID()'  /** Loop through each term and add them to an array */ $formatted_terms = array(); foreach($terms as $term) :      $formatted_terms[] = sprintf(         '&lt;a href=\"urlhere/%1$s\" title=\"View posts in $2%s\"&gt;%3$s&lt;/a&gt;',         $term-&gt;slug,            /** %1$s - The term slug (for the 'href' attribute)*/         esc_attr($term-&gt;name),  /** %2$s - The term name (formatted for the 'title' attribute) */         $term-&gt;name             /** %1$s - The term name (for display) */     );  endforeach;  /** Output the terms, formatted as you desire */ echo join(',', $formatted_terms);   The function that is used to achieve your desired output is wp_get_object_terms().  If you require, you can pass a 3rd parameter as an array containing arguments to order the terms and to only retrun certain fields, so please take a look at the Function Reference.  With the code above the $temrs are returned as an array of objects, and should you wish to use any more of the fields returned for each term here is how the object is formatted -  [0] =&gt; stdClass Object     (         [term_id] =&gt; 22         [name] =&gt; My Taxonomy Term         [slug] =&gt; my-taxonomy-term         [term_group] =&gt; 0         [term_taxonomy_id] =&gt; 29         [taxonomy] =&gt; portfolio_cat         [description] =&gt;          [parent] =&gt; 20         [count] =&gt; 5         [filter] =&gt; raw     )  \n",
      "Actual Label: TECHNOLOGY\n",
      "Predicted Label: STACKOVERFLOW\n",
      "Document:-\n",
      "You can use RewriteCond %{REMOTE_HOST} or RewriteCond %{REMOTE_ADDR} to set such redirects.  Try something like:   #A.B.C.D is the referrer IP@ RewriteCond %{REMOTE_HOST} ^A\\.B\\.C\\.D RewriteRule ^(.*)$ http://www.yoursite.com/landingpage.html [NC,L,U,QSA]  \n",
      "Actual Label: STACKOVERFLOW\n",
      "Predicted Label: TECHNOLOGY\n",
      "Document:-\n",
      "Use if all tables have identity field.  exec sp_MSforeachtable @command1 = 'DBCC CHECKIDENT(''?'', RESEED, 1)'   MSforeachtable is an undocumented, but extremely handy stored proc which executes a given command against all tables in your database.  To reseed ONLY tables with an identity column you can use the next script. It also makes use of sp_MSforeachtable but taking into account the correct tables.  EXEC sp_MSforeachtable ' IF (SELECT COUNT(1)      FROM INFORMATION_SCHEMA.TABLES      WHERE TABLE_TYPE = ''BASE TABLE''      AND ''[''+ TABLE_SCHEMA + ''].['' + TABLE_NAME + '']'' = ''?''      AND OBJECTPROPERTY(OBJECT_ID(TABLE_NAME), ''TableHasIdentity'') = 1) &gt; 0  BEGIN     DBCC CHECKIDENT (''?'', RESEED, 1) END'   Use Following query to get Last Identity value inserted in tables in a database.     SELECT TableName = OBJECT_NAME(OBJECT_ID) ,        ColumnName = name ,        OriginalSeed = seed_value ,        Step = increment_value ,        LastValue = last_value ,        IsNotForReplication = is_not_for_replication FROM sys.identity_columns   Refer this for more details \n"
     ]
    }
   ],
   "source": [
    "num = 0\n",
    "for document, label, predicted_label in zip(df_test.answer,test_labels, svm_tfidf_predictions_answer):\n",
    "    if predicted_label != label\n",
    "        print('Actual Label:', label)\n",
    "        print('Predicted Label:', predicted_label)\n",
    "        print('Document:-')\n",
    "        print(re.sub('\\n',' ', document))\n",
    "        num += 1\n",
    "        if num == 5:\n",
    "            break"
   ]
  },
  {
   "cell_type": "markdown",
   "metadata": {},
   "source": [
    "### C. Pair of Question/Answer Evaluation"
   ]
  },
  {
   "cell_type": "code",
   "execution_count": 215,
   "metadata": {},
   "outputs": [],
   "source": [
    "test['predicted_question'] = svm_tfidf_predictions_question\n",
    "test['predicted_answer'] = svm_tfidf_predictions_answer"
   ]
  },
  {
   "cell_type": "code",
   "execution_count": 216,
   "metadata": {},
   "outputs": [
    {
     "data": {
      "text/html": [
       "<div>\n",
       "<style scoped>\n",
       "    .dataframe tbody tr th:only-of-type {\n",
       "        vertical-align: middle;\n",
       "    }\n",
       "\n",
       "    .dataframe tbody tr th {\n",
       "        vertical-align: top;\n",
       "    }\n",
       "\n",
       "    .dataframe thead th {\n",
       "        text-align: right;\n",
       "    }\n",
       "</style>\n",
       "<table border=\"1\" class=\"dataframe\">\n",
       "  <thead>\n",
       "    <tr style=\"text-align: right;\">\n",
       "      <th></th>\n",
       "      <th>qa_id</th>\n",
       "      <th>question_title</th>\n",
       "      <th>question_body</th>\n",
       "      <th>question_user_name</th>\n",
       "      <th>question_user_page</th>\n",
       "      <th>answer</th>\n",
       "      <th>answer_user_name</th>\n",
       "      <th>answer_user_page</th>\n",
       "      <th>url</th>\n",
       "      <th>category</th>\n",
       "      <th>host</th>\n",
       "      <th>predicted_question</th>\n",
       "      <th>predicted_answer</th>\n",
       "    </tr>\n",
       "  </thead>\n",
       "  <tbody>\n",
       "    <tr>\n",
       "      <td>0</td>\n",
       "      <td>39</td>\n",
       "      <td>Will leaving corpses lying around upset my pri...</td>\n",
       "      <td>I see questions/information online about how t...</td>\n",
       "      <td>Dylan</td>\n",
       "      <td>https://gaming.stackexchange.com/users/64471</td>\n",
       "      <td>There is no consequence for leaving corpses an...</td>\n",
       "      <td>Nelson868</td>\n",
       "      <td>https://gaming.stackexchange.com/users/97324</td>\n",
       "      <td>http://gaming.stackexchange.com/questions/1979...</td>\n",
       "      <td>CULTURE</td>\n",
       "      <td>gaming.stackexchange.com</td>\n",
       "      <td>LIFE_ARTS</td>\n",
       "      <td>LIFE_ARTS</td>\n",
       "    </tr>\n",
       "    <tr>\n",
       "      <td>1</td>\n",
       "      <td>46</td>\n",
       "      <td>Url link to feature image in the portfolio</td>\n",
       "      <td>I am new to Wordpress. i have issue with Featu...</td>\n",
       "      <td>Anu</td>\n",
       "      <td>https://wordpress.stackexchange.com/users/72927</td>\n",
       "      <td>I think it is possible with custom fields.\\n\\n...</td>\n",
       "      <td>Irina</td>\n",
       "      <td>https://wordpress.stackexchange.com/users/27233</td>\n",
       "      <td>http://wordpress.stackexchange.com/questions/1...</td>\n",
       "      <td>TECHNOLOGY</td>\n",
       "      <td>wordpress.stackexchange.com</td>\n",
       "      <td>TECHNOLOGY</td>\n",
       "      <td>TECHNOLOGY</td>\n",
       "    </tr>\n",
       "    <tr>\n",
       "      <td>2</td>\n",
       "      <td>70</td>\n",
       "      <td>Is accuracy, recoil or bullet spread affected ...</td>\n",
       "      <td>To experiment I started a bot game, toggled in...</td>\n",
       "      <td>Konsta</td>\n",
       "      <td>https://gaming.stackexchange.com/users/37545</td>\n",
       "      <td>You do not have armour in the screenshots. Thi...</td>\n",
       "      <td>Damon Smithies</td>\n",
       "      <td>https://gaming.stackexchange.com/users/70641</td>\n",
       "      <td>http://gaming.stackexchange.com/questions/2154...</td>\n",
       "      <td>CULTURE</td>\n",
       "      <td>gaming.stackexchange.com</td>\n",
       "      <td>LIFE_ARTS</td>\n",
       "      <td>CULTURE</td>\n",
       "    </tr>\n",
       "    <tr>\n",
       "      <td>3</td>\n",
       "      <td>132</td>\n",
       "      <td>Suddenly got an I/O error from my external HDD</td>\n",
       "      <td>I have used my Raspberry Pi as a torrent-serve...</td>\n",
       "      <td>robbannn</td>\n",
       "      <td>https://raspberrypi.stackexchange.com/users/17341</td>\n",
       "      <td>Your Western Digital hard drive is disappearin...</td>\n",
       "      <td>HeatfanJohn</td>\n",
       "      <td>https://raspberrypi.stackexchange.com/users/1311</td>\n",
       "      <td>http://raspberrypi.stackexchange.com/questions...</td>\n",
       "      <td>TECHNOLOGY</td>\n",
       "      <td>raspberrypi.stackexchange.com</td>\n",
       "      <td>TECHNOLOGY</td>\n",
       "      <td>TECHNOLOGY</td>\n",
       "    </tr>\n",
       "    <tr>\n",
       "      <td>4</td>\n",
       "      <td>200</td>\n",
       "      <td>Passenger Name - Flight Booking Passenger only...</td>\n",
       "      <td>I have bought Delhi-London return flights for ...</td>\n",
       "      <td>Amit</td>\n",
       "      <td>https://travel.stackexchange.com/users/29089</td>\n",
       "      <td>I called two persons who work for Saudia (tick...</td>\n",
       "      <td>Nean Der Thal</td>\n",
       "      <td>https://travel.stackexchange.com/users/10051</td>\n",
       "      <td>http://travel.stackexchange.com/questions/4704...</td>\n",
       "      <td>CULTURE</td>\n",
       "      <td>travel.stackexchange.com</td>\n",
       "      <td>CULTURE</td>\n",
       "      <td>CULTURE</td>\n",
       "    </tr>\n",
       "  </tbody>\n",
       "</table>\n",
       "</div>"
      ],
      "text/plain": [
       "   qa_id                                     question_title  \\\n",
       "0     39  Will leaving corpses lying around upset my pri...   \n",
       "1     46         Url link to feature image in the portfolio   \n",
       "2     70  Is accuracy, recoil or bullet spread affected ...   \n",
       "3    132     Suddenly got an I/O error from my external HDD   \n",
       "4    200  Passenger Name - Flight Booking Passenger only...   \n",
       "\n",
       "                                       question_body question_user_name  \\\n",
       "0  I see questions/information online about how t...              Dylan   \n",
       "1  I am new to Wordpress. i have issue with Featu...                Anu   \n",
       "2  To experiment I started a bot game, toggled in...             Konsta   \n",
       "3  I have used my Raspberry Pi as a torrent-serve...           robbannn   \n",
       "4  I have bought Delhi-London return flights for ...               Amit   \n",
       "\n",
       "                                  question_user_page  \\\n",
       "0       https://gaming.stackexchange.com/users/64471   \n",
       "1    https://wordpress.stackexchange.com/users/72927   \n",
       "2       https://gaming.stackexchange.com/users/37545   \n",
       "3  https://raspberrypi.stackexchange.com/users/17341   \n",
       "4       https://travel.stackexchange.com/users/29089   \n",
       "\n",
       "                                              answer answer_user_name  \\\n",
       "0  There is no consequence for leaving corpses an...        Nelson868   \n",
       "1  I think it is possible with custom fields.\\n\\n...            Irina   \n",
       "2  You do not have armour in the screenshots. Thi...   Damon Smithies   \n",
       "3  Your Western Digital hard drive is disappearin...      HeatfanJohn   \n",
       "4  I called two persons who work for Saudia (tick...    Nean Der Thal   \n",
       "\n",
       "                                   answer_user_page  \\\n",
       "0      https://gaming.stackexchange.com/users/97324   \n",
       "1   https://wordpress.stackexchange.com/users/27233   \n",
       "2      https://gaming.stackexchange.com/users/70641   \n",
       "3  https://raspberrypi.stackexchange.com/users/1311   \n",
       "4      https://travel.stackexchange.com/users/10051   \n",
       "\n",
       "                                                 url    category  \\\n",
       "0  http://gaming.stackexchange.com/questions/1979...     CULTURE   \n",
       "1  http://wordpress.stackexchange.com/questions/1...  TECHNOLOGY   \n",
       "2  http://gaming.stackexchange.com/questions/2154...     CULTURE   \n",
       "3  http://raspberrypi.stackexchange.com/questions...  TECHNOLOGY   \n",
       "4  http://travel.stackexchange.com/questions/4704...     CULTURE   \n",
       "\n",
       "                            host predicted_question predicted_answer  \n",
       "0       gaming.stackexchange.com          LIFE_ARTS        LIFE_ARTS  \n",
       "1    wordpress.stackexchange.com         TECHNOLOGY       TECHNOLOGY  \n",
       "2       gaming.stackexchange.com          LIFE_ARTS          CULTURE  \n",
       "3  raspberrypi.stackexchange.com         TECHNOLOGY       TECHNOLOGY  \n",
       "4       travel.stackexchange.com            CULTURE          CULTURE  "
      ]
     },
     "execution_count": 216,
     "metadata": {},
     "output_type": "execute_result"
    }
   ],
   "source": [
    "test.head()"
   ]
  },
  {
   "cell_type": "code",
   "execution_count": 220,
   "metadata": {},
   "outputs": [],
   "source": [
    "# Check to see if the pair of question and answer is predicted as the same category\n",
    "Count = []\n",
    "for i in range(0, len(test)):\n",
    "    if test['predicted_question'][i] == test['predicted_answer'][i] and test['predicted_question'][i] == test['category'][i]:\n",
    "        a = \"correct\"\n",
    "    else:\n",
    "        a = \"incorrect\"\n",
    "    Count.append(a)"
   ]
  },
  {
   "cell_type": "code",
   "execution_count": 221,
   "metadata": {},
   "outputs": [],
   "source": [
    "test['qa_pair_prediction'] = Count"
   ]
  },
  {
   "cell_type": "code",
   "execution_count": 222,
   "metadata": {},
   "outputs": [
    {
     "data": {
      "text/html": [
       "<div>\n",
       "<style scoped>\n",
       "    .dataframe tbody tr th:only-of-type {\n",
       "        vertical-align: middle;\n",
       "    }\n",
       "\n",
       "    .dataframe tbody tr th {\n",
       "        vertical-align: top;\n",
       "    }\n",
       "\n",
       "    .dataframe thead th {\n",
       "        text-align: right;\n",
       "    }\n",
       "</style>\n",
       "<table border=\"1\" class=\"dataframe\">\n",
       "  <thead>\n",
       "    <tr style=\"text-align: right;\">\n",
       "      <th></th>\n",
       "      <th>qa_id</th>\n",
       "      <th>question_title</th>\n",
       "      <th>question_body</th>\n",
       "      <th>question_user_name</th>\n",
       "      <th>question_user_page</th>\n",
       "      <th>answer</th>\n",
       "      <th>answer_user_name</th>\n",
       "      <th>answer_user_page</th>\n",
       "      <th>url</th>\n",
       "      <th>category</th>\n",
       "      <th>host</th>\n",
       "      <th>predicted_question</th>\n",
       "      <th>predicted_answer</th>\n",
       "      <th>qa_pair_prediction</th>\n",
       "    </tr>\n",
       "  </thead>\n",
       "  <tbody>\n",
       "    <tr>\n",
       "      <td>0</td>\n",
       "      <td>39</td>\n",
       "      <td>Will leaving corpses lying around upset my pri...</td>\n",
       "      <td>I see questions/information online about how t...</td>\n",
       "      <td>Dylan</td>\n",
       "      <td>https://gaming.stackexchange.com/users/64471</td>\n",
       "      <td>There is no consequence for leaving corpses an...</td>\n",
       "      <td>Nelson868</td>\n",
       "      <td>https://gaming.stackexchange.com/users/97324</td>\n",
       "      <td>http://gaming.stackexchange.com/questions/1979...</td>\n",
       "      <td>CULTURE</td>\n",
       "      <td>gaming.stackexchange.com</td>\n",
       "      <td>LIFE_ARTS</td>\n",
       "      <td>LIFE_ARTS</td>\n",
       "      <td>incorrect</td>\n",
       "    </tr>\n",
       "    <tr>\n",
       "      <td>1</td>\n",
       "      <td>46</td>\n",
       "      <td>Url link to feature image in the portfolio</td>\n",
       "      <td>I am new to Wordpress. i have issue with Featu...</td>\n",
       "      <td>Anu</td>\n",
       "      <td>https://wordpress.stackexchange.com/users/72927</td>\n",
       "      <td>I think it is possible with custom fields.\\n\\n...</td>\n",
       "      <td>Irina</td>\n",
       "      <td>https://wordpress.stackexchange.com/users/27233</td>\n",
       "      <td>http://wordpress.stackexchange.com/questions/1...</td>\n",
       "      <td>TECHNOLOGY</td>\n",
       "      <td>wordpress.stackexchange.com</td>\n",
       "      <td>TECHNOLOGY</td>\n",
       "      <td>TECHNOLOGY</td>\n",
       "      <td>correct</td>\n",
       "    </tr>\n",
       "    <tr>\n",
       "      <td>2</td>\n",
       "      <td>70</td>\n",
       "      <td>Is accuracy, recoil or bullet spread affected ...</td>\n",
       "      <td>To experiment I started a bot game, toggled in...</td>\n",
       "      <td>Konsta</td>\n",
       "      <td>https://gaming.stackexchange.com/users/37545</td>\n",
       "      <td>You do not have armour in the screenshots. Thi...</td>\n",
       "      <td>Damon Smithies</td>\n",
       "      <td>https://gaming.stackexchange.com/users/70641</td>\n",
       "      <td>http://gaming.stackexchange.com/questions/2154...</td>\n",
       "      <td>CULTURE</td>\n",
       "      <td>gaming.stackexchange.com</td>\n",
       "      <td>LIFE_ARTS</td>\n",
       "      <td>CULTURE</td>\n",
       "      <td>incorrect</td>\n",
       "    </tr>\n",
       "    <tr>\n",
       "      <td>3</td>\n",
       "      <td>132</td>\n",
       "      <td>Suddenly got an I/O error from my external HDD</td>\n",
       "      <td>I have used my Raspberry Pi as a torrent-serve...</td>\n",
       "      <td>robbannn</td>\n",
       "      <td>https://raspberrypi.stackexchange.com/users/17341</td>\n",
       "      <td>Your Western Digital hard drive is disappearin...</td>\n",
       "      <td>HeatfanJohn</td>\n",
       "      <td>https://raspberrypi.stackexchange.com/users/1311</td>\n",
       "      <td>http://raspberrypi.stackexchange.com/questions...</td>\n",
       "      <td>TECHNOLOGY</td>\n",
       "      <td>raspberrypi.stackexchange.com</td>\n",
       "      <td>TECHNOLOGY</td>\n",
       "      <td>TECHNOLOGY</td>\n",
       "      <td>correct</td>\n",
       "    </tr>\n",
       "    <tr>\n",
       "      <td>4</td>\n",
       "      <td>200</td>\n",
       "      <td>Passenger Name - Flight Booking Passenger only...</td>\n",
       "      <td>I have bought Delhi-London return flights for ...</td>\n",
       "      <td>Amit</td>\n",
       "      <td>https://travel.stackexchange.com/users/29089</td>\n",
       "      <td>I called two persons who work for Saudia (tick...</td>\n",
       "      <td>Nean Der Thal</td>\n",
       "      <td>https://travel.stackexchange.com/users/10051</td>\n",
       "      <td>http://travel.stackexchange.com/questions/4704...</td>\n",
       "      <td>CULTURE</td>\n",
       "      <td>travel.stackexchange.com</td>\n",
       "      <td>CULTURE</td>\n",
       "      <td>CULTURE</td>\n",
       "      <td>correct</td>\n",
       "    </tr>\n",
       "  </tbody>\n",
       "</table>\n",
       "</div>"
      ],
      "text/plain": [
       "   qa_id                                     question_title  \\\n",
       "0     39  Will leaving corpses lying around upset my pri...   \n",
       "1     46         Url link to feature image in the portfolio   \n",
       "2     70  Is accuracy, recoil or bullet spread affected ...   \n",
       "3    132     Suddenly got an I/O error from my external HDD   \n",
       "4    200  Passenger Name - Flight Booking Passenger only...   \n",
       "\n",
       "                                       question_body question_user_name  \\\n",
       "0  I see questions/information online about how t...              Dylan   \n",
       "1  I am new to Wordpress. i have issue with Featu...                Anu   \n",
       "2  To experiment I started a bot game, toggled in...             Konsta   \n",
       "3  I have used my Raspberry Pi as a torrent-serve...           robbannn   \n",
       "4  I have bought Delhi-London return flights for ...               Amit   \n",
       "\n",
       "                                  question_user_page  \\\n",
       "0       https://gaming.stackexchange.com/users/64471   \n",
       "1    https://wordpress.stackexchange.com/users/72927   \n",
       "2       https://gaming.stackexchange.com/users/37545   \n",
       "3  https://raspberrypi.stackexchange.com/users/17341   \n",
       "4       https://travel.stackexchange.com/users/29089   \n",
       "\n",
       "                                              answer answer_user_name  \\\n",
       "0  There is no consequence for leaving corpses an...        Nelson868   \n",
       "1  I think it is possible with custom fields.\\n\\n...            Irina   \n",
       "2  You do not have armour in the screenshots. Thi...   Damon Smithies   \n",
       "3  Your Western Digital hard drive is disappearin...      HeatfanJohn   \n",
       "4  I called two persons who work for Saudia (tick...    Nean Der Thal   \n",
       "\n",
       "                                   answer_user_page  \\\n",
       "0      https://gaming.stackexchange.com/users/97324   \n",
       "1   https://wordpress.stackexchange.com/users/27233   \n",
       "2      https://gaming.stackexchange.com/users/70641   \n",
       "3  https://raspberrypi.stackexchange.com/users/1311   \n",
       "4      https://travel.stackexchange.com/users/10051   \n",
       "\n",
       "                                                 url    category  \\\n",
       "0  http://gaming.stackexchange.com/questions/1979...     CULTURE   \n",
       "1  http://wordpress.stackexchange.com/questions/1...  TECHNOLOGY   \n",
       "2  http://gaming.stackexchange.com/questions/2154...     CULTURE   \n",
       "3  http://raspberrypi.stackexchange.com/questions...  TECHNOLOGY   \n",
       "4  http://travel.stackexchange.com/questions/4704...     CULTURE   \n",
       "\n",
       "                            host predicted_question predicted_answer  \\\n",
       "0       gaming.stackexchange.com          LIFE_ARTS        LIFE_ARTS   \n",
       "1    wordpress.stackexchange.com         TECHNOLOGY       TECHNOLOGY   \n",
       "2       gaming.stackexchange.com          LIFE_ARTS          CULTURE   \n",
       "3  raspberrypi.stackexchange.com         TECHNOLOGY       TECHNOLOGY   \n",
       "4       travel.stackexchange.com            CULTURE          CULTURE   \n",
       "\n",
       "  qa_pair_prediction  \n",
       "0          incorrect  \n",
       "1            correct  \n",
       "2          incorrect  \n",
       "3            correct  \n",
       "4            correct  "
      ]
     },
     "execution_count": 222,
     "metadata": {},
     "output_type": "execute_result"
    }
   ],
   "source": [
    "test.head()"
   ]
  },
  {
   "cell_type": "code",
   "execution_count": 287,
   "metadata": {},
   "outputs": [
    {
     "data": {
      "text/plain": [
       "<matplotlib.axes._subplots.AxesSubplot at 0x1c12c428148>"
      ]
     },
     "execution_count": 287,
     "metadata": {},
     "output_type": "execute_result"
    },
    {
     "data": {
      "image/png": "[encoded data removed]",
      "text/plain": [
       "<Figure size 432x432 with 1 Axes>"
      ]
     },
     "metadata": {},
     "output_type": "display_data"
    }
   ],
   "source": [
    "plt.figure(figsize=(6,6))\n",
    "test.qa_pair_prediction.value_counts().plot(kind='pie',autopct = '%1.1f%%')"
   ]
  },
  {
   "cell_type": "markdown",
   "metadata": {},
   "source": [
    "# ____\n",
    "## Step 8: Conclusion\n",
    "\n",
    "### `Feature`\n",
    "- TFIDF features | Stopwords Removal | Stemming | Unigram & Bigram Combination | logarithmic for frequency | minimum numbers of document a word must be present to kept is 1 \n",
    "\n",
    "### `Model`\n",
    "- Supported Vector Machine\n",
    "\n",
    "### `Evaluation`\n",
    "- **Question Accuracy:** 98% on training | 74% on testing\n",
    "- **Answer Accuracy:** 95% on training | 73% on testing\n",
    "- **Pair of Question & Answer Accuracy:** 60.1% correct on testing - combination of the answer and question predicted labels - we don't actually fit the pair of Google qa in the model for this part\n",
    "\n",
    "### `Reasoning`\n",
    "- In multiclassification problem, we still need to have a balanced data for a better model performance. However, with 5 target in the dataset, which means if we randomly pick 1 to predict the accuracy would be 100%/5=20%, which is the baseline for predictions - Therefore, the accuracy rate of 74% and 73% on testing exceed the the baseline more than 3 times. The model does perform good enough under this circumstances."
   ]
  },
  {
   "cell_type": "markdown",
   "metadata": {},
   "source": [
    "# ___\n",
    "## Step 9: Appendix\n",
    "\n",
    "### A. Feature Engineering\n",
    "\n",
    "### `BOW | Unigram`"
   ]
  },
  {
   "cell_type": "code",
   "execution_count": 239,
   "metadata": {},
   "outputs": [],
   "source": [
    "from sklearn.feature_extraction.text import CountVectorizer #tokenizes, count words\n",
    "bow_vectorizer = CountVectorizer(lowercase=True, # Lowercase\n",
    "                                min_df=1,\n",
    "                                ngram_range=(1,1)) # unigram\n",
    "# QUESTION features engineering\n",
    "bow_train_question = bow_vectorizer.fit_transform(train_question)\n",
    "bow_test_question = bow_vectorizer.transform(test_question)\n",
    "\n",
    "# ANSWER features engineering\n",
    "bow_train_answer = bow_vectorizer.fit_transform(train_answer)\n",
    "bow_test_answer = bow_vectorizer.transform(test_answer)"
   ]
  },
  {
   "cell_type": "markdown",
   "metadata": {},
   "source": [
    "### `Word2Vec`"
   ]
  },
  {
   "cell_type": "code",
   "execution_count": 297,
   "metadata": {},
   "outputs": [],
   "source": [
    "# tokenize documents for word2vec\n",
    "tokenized_train_question = [nltk.word_tokenize(text)\n",
    "                   for text in train_question]\n",
    "tokenized_test_question = [nltk.word_tokenize(text)\n",
    "                   for text in test_question]\n",
    "tokenized_train_answer = [nltk.word_tokenize(text)\n",
    "                   for text in train_answer] \n",
    "tokenized_test_answer = [nltk.word_tokenize(text)\n",
    "                   for text in test_answer]  \n",
    "\n",
    "# build word2vec model for question                 \n",
    "wv_model_q = gensim.models.Word2Vec(tokenized_train_question,\n",
    "                               size=200,                          #set the size or dimension for the word vectors \n",
    "                               window=60,                        #specify the length of the window of words taken as context\n",
    "                               min_count=10)                   #ignores all words with total frequency lower than                     \n",
    "\n",
    "# build word2vec model for answer                 \n",
    "wv_model_a = gensim.models.Word2Vec(tokenized_train_answer,\n",
    "                               size=200,                          #set the size or dimension for the word vectors \n",
    "                               window=60,                        #specify the length of the window of words taken as context\n",
    "                               min_count=10)                   #ignores all words with total frequency lower than                     "
   ]
  },
  {
   "cell_type": "code",
   "execution_count": 298,
   "metadata": {},
   "outputs": [
    {
     "name": "stderr",
     "output_type": "stream",
     "text": [
      "C:\\Users\\Jennie\\Anaconda3\\lib\\site-packages\\ipykernel_launcher.py:9: DeprecationWarning: Call to deprecated `__getitem__` (Method will be removed in 4.0.0, use self.wv.__getitem__() instead).\n",
      "  if __name__ == '__main__':\n"
     ]
    }
   ],
   "source": [
    "def average_word_vectors(words, model, vocabulary, num_features):\n",
    "    \n",
    "    feature_vector = np.zeros((num_features,),dtype=\"float64\")\n",
    "    nwords = 0.\n",
    "    \n",
    "    for word in words:\n",
    "        if word in vocabulary: \n",
    "            nwords = nwords + 1.\n",
    "            feature_vector = np.add(feature_vector, model[word])\n",
    "    \n",
    "    if nwords:\n",
    "        feature_vector = np.divide(feature_vector, nwords)\n",
    "        \n",
    "    return feature_vector \n",
    "   \n",
    "\n",
    "def averaged_word_vectorizer(corpus, model, num_features):\n",
    "    vocabulary = set(model.wv.index2word)\n",
    "    features = [average_word_vectors(tokenized_sentence, model, vocabulary, num_features)\n",
    "                    for tokenized_sentence in corpus]\n",
    "    return np.array(features)\n",
    "\n",
    "# averaged word vector features from word2vec\n",
    "avg_wv_trainq_features = averaged_word_vectorizer(corpus=tokenized_train_question,\n",
    "                                                 model=wv_model_q ,\n",
    "                                                 num_features=200) \n",
    "avg_wv_testq_features = averaged_word_vectorizer(corpus=tokenized_test_question,\n",
    "                                                 model=wv_model_q ,\n",
    "                                                 num_features=200)\n",
    "avg_wv_traina_features = averaged_word_vectorizer(corpus=tokenized_train_answer,\n",
    "                                                 model=wv_model_a,\n",
    "                                                 num_features=200)\n",
    "avg_wv_testa_features = averaged_word_vectorizer(corpus=tokenized_test_answer,\n",
    "                                                model=wv_model_a,\n",
    "                                                num_features=200) "
   ]
  },
  {
   "cell_type": "markdown",
   "metadata": {},
   "source": [
    "**Over Sampling**"
   ]
  },
  {
   "cell_type": "code",
   "execution_count": 310,
   "metadata": {},
   "outputs": [],
   "source": [
    "oversample = SMOTE()\n",
    "X, y = oversample.fit_resample(bow_train_question, train_labels)\n",
    "A, b = oversample.fit_resample(bow_train_answer,train_labels)\n",
    "w2v_q, q_labels = oversample.fit_resample(avg_wv_trainq_features, train_labels)\n",
    "w2v_a, a_labels = oversample.fit_resample(avg_wv_traina_features, train_labels)"
   ]
  },
  {
   "cell_type": "markdown",
   "metadata": {},
   "source": [
    "## B. Model Fitting & Evaluation\n",
    "\n",
    "# `BOW Feature`\n",
    "\n",
    "- Naive Bayes tend to perform the best with BOW features yet the accuracy rate is not as high as TFIDF features\n",
    "\n",
    "### Question"
   ]
  },
  {
   "cell_type": "code",
   "execution_count": 281,
   "metadata": {},
   "outputs": [
    {
     "data": {
      "image/png": "[encoded data removed]",
      "text/plain": [
       "<Figure size 648x432 with 1 Axes>"
      ]
     },
     "metadata": {
      "needs_background": "light"
     },
     "output_type": "display_data"
    },
    {
     "data": {
      "text/plain": [
       "model name\n",
       "DecisionTreeClassifier    0.806712\n",
       "MultinomialNB             0.851784\n",
       "RandomForestClassifier    0.402040\n",
       "SGDClassifier             0.872676\n",
       "Name: accuracy, dtype: float64"
      ]
     },
     "execution_count": 281,
     "metadata": {},
     "output_type": "execute_result"
    }
   ],
   "source": [
    "models = [mnb, svm, dct, rf]\n",
    "from sklearn.model_selection import cross_val_score\n",
    "# Fitting the model into a plot\n",
    "CV = 5 # 5-fold cross validation\n",
    "cv_df_bow = pd.DataFrame(index=range(CV*len(models)))\n",
    "entries=[]\n",
    "for model in models:\n",
    "    model_name = model.__class__.__name__\n",
    "    accuracies = cross_val_score(model,bow_train_question,train_labels,scoring='accuracy',cv=CV)\n",
    "    for fold_idx, accuracy in enumerate(accuracies):\n",
    "        entries.append((model_name,fold_idx,accuracy))\n",
    "    cv_df_bow=pd.DataFrame(entries, columns=['model name','fold_idx','accuracy'])\n",
    "\n",
    "# Build a plots to visualize the model selections\n",
    "plt.figure(figsize=(9,6))\n",
    "sns.boxplot(x='model name',y='accuracy',data=cv_df_bow)\n",
    "sns.stripplot(x='model name',y='accuracy',data=cv_df_bow,\n",
    "             size=9, jitter=True, edgecolor=\"gray\",linewidth=3)\n",
    "\n",
    "plt.show()\n",
    "cv_df_bow.groupby('model name').accuracy.mean()"
   ]
  },
  {
   "cell_type": "code",
   "execution_count": 283,
   "metadata": {},
   "outputs": [
    {
     "data": {
      "image/png": "[encoded data removed]",
      "text/plain": [
       "<Figure size 648x432 with 1 Axes>"
      ]
     },
     "metadata": {
      "needs_background": "light"
     },
     "output_type": "display_data"
    },
    {
     "data": {
      "text/plain": [
       "model name\n",
       "DecisionTreeClassifier    0.788775\n",
       "MultinomialNB             0.838181\n",
       "RandomForestClassifier    0.582384\n",
       "SGDClassifier             0.875461\n",
       "Name: accuracy, dtype: float64"
      ]
     },
     "execution_count": 283,
     "metadata": {},
     "output_type": "execute_result"
    }
   ],
   "source": [
    "# Over Sampling Question BOW\n",
    "models = [mnb, svm, dct, rf]\n",
    "from sklearn.model_selection import cross_val_score\n",
    "# Fitting the model into a plot\n",
    "CV = 5 # 5-fold cross validation\n",
    "cv_df_bow = pd.DataFrame(index=range(CV*len(models)))\n",
    "entries=[]\n",
    "for model in models:\n",
    "    model_name = model.__class__.__name__\n",
    "    accuracies = cross_val_score(model,X,y,scoring='accuracy',cv=CV)\n",
    "    for fold_idx, accuracy in enumerate(accuracies):\n",
    "        entries.append((model_name,fold_idx,accuracy))\n",
    "    cv_df_bow=pd.DataFrame(entries, columns=['model name','fold_idx','accuracy'])\n",
    "\n",
    "# Build a plots to visualize the model selections\n",
    "plt.figure(figsize=(9,6))\n",
    "sns.boxplot(x='model name',y='accuracy',data=cv_df_bow)\n",
    "sns.stripplot(x='model name',y='accuracy',data=cv_df_bow,\n",
    "             size=9, jitter=True, edgecolor=\"gray\",linewidth=3)\n",
    "\n",
    "plt.show()\n",
    "cv_df_bow.groupby('model name').accuracy.mean()"
   ]
  },
  {
   "cell_type": "markdown",
   "metadata": {},
   "source": [
    "### Answer"
   ]
  },
  {
   "cell_type": "code",
   "execution_count": 280,
   "metadata": {},
   "outputs": [
    {
     "data": {
      "image/png": "[encoded data removed]",
      "text/plain": [
       "<Figure size 648x432 with 1 Axes>"
      ]
     },
     "metadata": {
      "needs_background": "light"
     },
     "output_type": "display_data"
    },
    {
     "data": {
      "text/plain": [
       "model name\n",
       "DecisionTreeClassifier    0.482481\n",
       "MultinomialNB             0.770846\n",
       "RandomForestClassifier    0.401546\n",
       "SGDClassifier             0.700938\n",
       "Name: accuracy, dtype: float64"
      ]
     },
     "execution_count": 280,
     "metadata": {},
     "output_type": "execute_result"
    }
   ],
   "source": [
    "# Answer\n",
    "models = [mnb, svm, dct, rf]\n",
    "from sklearn.model_selection import cross_val_score\n",
    "# Fitting the model into a plot\n",
    "CV = 5 # 5-fold cross validation\n",
    "cv_df_bow = pd.DataFrame(index=range(CV*len(models)))\n",
    "entries=[]\n",
    "for model in models:\n",
    "    model_name = model.__class__.__name__\n",
    "    accuracies = cross_val_score(model,bow_train_answer,train_labels,scoring='accuracy',cv=CV)\n",
    "    for fold_idx, accuracy in enumerate(accuracies):\n",
    "        entries.append((model_name,fold_idx,accuracy))\n",
    "    cv_df_bow=pd.DataFrame(entries, columns=['model name','fold_idx','accuracy'])\n",
    "\n",
    "# Build a plots to visualize the model selections\n",
    "plt.figure(figsize=(9,6))\n",
    "sns.boxplot(x='model name',y='accuracy',data=cv_df_bow)\n",
    "sns.stripplot(x='model name',y='accuracy',data=cv_df_bow,\n",
    "             size=9, jitter=True, edgecolor=\"gray\",linewidth=3)\n",
    "\n",
    "plt.show()\n",
    "cv_df_bow.groupby('model name').accuracy.mean()"
   ]
  },
  {
   "cell_type": "code",
   "execution_count": 284,
   "metadata": {},
   "outputs": [
    {
     "data": {
      "image/png": "[encoded data removed]",
      "text/plain": [
       "<Figure size 648x432 with 1 Axes>"
      ]
     },
     "metadata": {
      "needs_background": "light"
     },
     "output_type": "display_data"
    },
    {
     "data": {
      "text/plain": [
       "model name\n",
       "DecisionTreeClassifier    0.559033\n",
       "MultinomialNB             0.761082\n",
       "RandomForestClassifier    0.490455\n",
       "SGDClassifier             0.757722\n",
       "Name: accuracy, dtype: float64"
      ]
     },
     "execution_count": 284,
     "metadata": {},
     "output_type": "execute_result"
    }
   ],
   "source": [
    "# Over Sampling Answer BOW\n",
    "models = [mnb, svm, dct, rf]\n",
    "from sklearn.model_selection import cross_val_score\n",
    "# Fitting the model into a plot\n",
    "CV = 5 # 5-fold cross validation\n",
    "cv_df_bow = pd.DataFrame(index=range(CV*len(models)))\n",
    "entries=[]\n",
    "for model in models:\n",
    "    model_name = model.__class__.__name__\n",
    "    accuracies = cross_val_score(model,A,b,scoring='accuracy',cv=CV)\n",
    "    for fold_idx, accuracy in enumerate(accuracies):\n",
    "        entries.append((model_name,fold_idx,accuracy))\n",
    "    cv_df_bow=pd.DataFrame(entries, columns=['model name','fold_idx','accuracy'])\n",
    "\n",
    "# Build a plots to visualize the model selections\n",
    "plt.figure(figsize=(9,6))\n",
    "sns.boxplot(x='model name',y='accuracy',data=cv_df_bow)\n",
    "sns.stripplot(x='model name',y='accuracy',data=cv_df_bow,\n",
    "             size=9, jitter=True, edgecolor=\"gray\",linewidth=3)\n",
    "\n",
    "plt.show()\n",
    "cv_df_bow.groupby('model name').accuracy.mean()"
   ]
  },
  {
   "cell_type": "markdown",
   "metadata": {},
   "source": [
    "## `Note` \n",
    "**In comparison with TFIDF and those 4 models, TFIDF still have better performance after being over sampling than BOW** "
   ]
  },
  {
   "cell_type": "markdown",
   "metadata": {},
   "source": [
    "# ___\n",
    "##  SVM {BOW | Unigram}\n",
    "\n",
    "- In the case of SVM with BOW - oversampling decreases the accuracy rate of the models - **OVER SAMPLING do not work** in this case\n",
    "- The accuracy rate on testing data for both answers and questions are roughly **65%**\n",
    "\n",
    "## `Question`"
   ]
  },
  {
   "cell_type": "code",
   "execution_count": 241,
   "metadata": {},
   "outputs": [
    {
     "name": "stdout",
     "output_type": "stream",
     "text": [
      "Accuracy: 0.64286\n",
      "Precision: 0.64205\n",
      "Recall: 0.64286\n",
      "F1 Score: 0.64197\n"
     ]
    }
   ],
   "source": [
    "# Question: Support Vector Machine | BOW\n",
    "svm_bow_predictions = train_predict_evaluate_model(classifier=svm,\n",
    "                                                 train_features=bow_train_question,\n",
    "                                                 train_labels=train_labels,\n",
    "                                                 test_features=bow_test_question,\n",
    "                                                 test_labels=test_labels)"
   ]
  },
  {
   "cell_type": "code",
   "execution_count": 256,
   "metadata": {},
   "outputs": [
    {
     "name": "stdout",
     "output_type": "stream",
     "text": [
      "Accuracy: 0.61555\n",
      "Precision: 0.63091\n",
      "Recall: 0.61555\n",
      "F1 Score: 0.61884\n"
     ]
    }
   ],
   "source": [
    "svm_bow_predictions = train_predict_evaluate_model(classifier=svm,\n",
    "                                                 train_features=X,\n",
    "                                                 train_labels=y,\n",
    "                                                 test_features=bow_test_question,\n",
    "                                                 test_labels=test_labels)"
   ]
  },
  {
   "cell_type": "markdown",
   "metadata": {},
   "source": [
    "## `Answer`"
   ]
  },
  {
   "cell_type": "code",
   "execution_count": 240,
   "metadata": {},
   "outputs": [
    {
     "name": "stdout",
     "output_type": "stream",
     "text": [
      "Accuracy: 0.65336\n",
      "Precision: 0.65941\n",
      "Recall: 0.65336\n",
      "F1 Score: 0.65517\n"
     ]
    }
   ],
   "source": [
    "# Answer: Support Vector Machine BOW\n",
    "svm_bow_predictions = train_predict_evaluate_model(classifier=svm,\n",
    "                                                 train_features=bow_train_answer,\n",
    "                                                 train_labels=train_labels,\n",
    "                                                 test_features=bow_test_answer,\n",
    "                                                 test_labels=test_labels)"
   ]
  },
  {
   "cell_type": "code",
   "execution_count": 261,
   "metadata": {},
   "outputs": [
    {
     "name": "stdout",
     "output_type": "stream",
     "text": [
      "Accuracy: 0.60294\n",
      "Precision: 0.61012\n",
      "Recall: 0.60294\n",
      "F1 Score: 0.60397\n"
     ]
    }
   ],
   "source": [
    "# Oversampling\n",
    "# Answer: Support Vector Machine BOW\n",
    "svm_bow_predictions = train_predict_evaluate_model(classifier=svm,\n",
    "                                                 train_features=A,\n",
    "                                                 train_labels=b,\n",
    "                                                 test_features=bow_test_answer,\n",
    "                                                 test_labels=test_labels)"
   ]
  },
  {
   "cell_type": "markdown",
   "metadata": {},
   "source": [
    "##  Decision Tree  {BOW | Unigram}\n",
    "\n",
    "- Decision Tree on BOW shows a very low accuracy rate - roughly 47% ~ 49% on testing data set\n",
    "- Oversampling do not work in this case since it decreases the accuracy of decision tree by 10% for both question and answer category classification\n",
    "\n",
    "### `Question`"
   ]
  },
  {
   "cell_type": "code",
   "execution_count": 263,
   "metadata": {},
   "outputs": [
    {
     "name": "stdout",
     "output_type": "stream",
     "text": [
      "Accuracy: 0.4916\n",
      "Precision: 0.48683\n",
      "Recall: 0.4916\n",
      "F1 Score: 0.48423\n"
     ]
    }
   ],
   "source": [
    "# Not over sampling\n",
    "# Question: Decision Tree | BOW\n",
    "dct_bow_predictions = train_predict_evaluate_model(classifier=dct,\n",
    "                                                 train_features=bow_train_question,\n",
    "                                                 train_labels=train_labels,\n",
    "                                                 test_features=bow_test_question,\n",
    "                                                 test_labels=test_labels)"
   ]
  },
  {
   "cell_type": "code",
   "execution_count": 265,
   "metadata": {},
   "outputs": [
    {
     "name": "stdout",
     "output_type": "stream",
     "text": [
      "Accuracy: 0.40966\n",
      "Precision: 0.43839\n",
      "Recall: 0.40966\n",
      "F1 Score: 0.41476\n"
     ]
    }
   ],
   "source": [
    "# Over sampling\n",
    "# Question: Decision Tree | BOW\n",
    "dct_bow_predictions = train_predict_evaluate_model(classifier=dct,\n",
    "                                                 train_features=X,\n",
    "                                                 train_labels=y,\n",
    "                                                 test_features=bow_test_question,\n",
    "                                                 test_labels=test_labels)"
   ]
  },
  {
   "cell_type": "markdown",
   "metadata": {},
   "source": [
    "## `Answer`"
   ]
  },
  {
   "cell_type": "code",
   "execution_count": 243,
   "metadata": {},
   "outputs": [
    {
     "name": "stdout",
     "output_type": "stream",
     "text": [
      "Accuracy: 0.47479\n",
      "Precision: 0.46931\n",
      "Recall: 0.47479\n",
      "F1 Score: 0.47126\n"
     ]
    }
   ],
   "source": [
    "# Answer: Decision Tree | BOW\n",
    "dct_bow_predictions = train_predict_evaluate_model(classifier=dct,\n",
    "                                                 train_features=bow_train_answer,\n",
    "                                                 train_labels=train_labels,\n",
    "                                                 test_features=bow_test_answer,\n",
    "                                                 test_labels=test_labels)"
   ]
  },
  {
   "cell_type": "code",
   "execution_count": 262,
   "metadata": {},
   "outputs": [
    {
     "name": "stdout",
     "output_type": "stream",
     "text": [
      "Accuracy: 0.44538\n",
      "Precision: 0.4597\n",
      "Recall: 0.44538\n",
      "F1 Score: 0.44658\n"
     ]
    }
   ],
   "source": [
    "# Over Samppling\n",
    "# Answer: Decision Tree | BOW\n",
    "dct_bow_predictions = train_predict_evaluate_model(classifier=dct,\n",
    "                                                 train_features=A,\n",
    "                                                 train_labels=b,\n",
    "                                                 test_features=bow_test_answer,\n",
    "                                                 test_labels=test_labels)"
   ]
  },
  {
   "cell_type": "markdown",
   "metadata": {},
   "source": [
    "##  Naive Bayes  {BOW | Unigram}\n",
    "\n",
    "- Naive Bayes works the best with BOW with 72% accuracy roughly on both question and answer\n",
    "- However, the over sampling does not work in this case because it decrease the accuracy of Naive Bayes\n",
    "\n",
    "## ` Question`"
   ]
  },
  {
   "cell_type": "code",
   "execution_count": 270,
   "metadata": {},
   "outputs": [
    {
     "name": "stdout",
     "output_type": "stream",
     "text": [
      "Accuracy: 0.72269\n",
      "Precision: 0.72444\n",
      "Recall: 0.72269\n",
      "F1 Score: 0.71833\n"
     ]
    }
   ],
   "source": [
    "# Question: Naive Bayes | BOW\n",
    "mnb_bow_predictions_question = train_predict_evaluate_model(classifier=mnb,\n",
    "                                            train_features=bow_train_question,\n",
    "                                            train_labels=train_labels,\n",
    "                                            test_features=bow_test_question,\n",
    "                                            test_labels=test_labels)"
   ]
  },
  {
   "cell_type": "code",
   "execution_count": 269,
   "metadata": {},
   "outputs": [
    {
     "name": "stdout",
     "output_type": "stream",
     "text": [
      "Accuracy: 0.72899\n",
      "Precision: 0.73178\n",
      "Recall: 0.72899\n",
      "F1 Score: 0.72611\n"
     ]
    }
   ],
   "source": [
    "# Question - Oversampling\n",
    "mnb_bow_predictions_answer = train_predict_evaluate_model(classifier=mnb,\n",
    "                                            train_features=X,\n",
    "                                            train_labels=y,\n",
    "                                            test_features=bow_test_question,\n",
    "                                            test_labels=test_labels)"
   ]
  },
  {
   "cell_type": "markdown",
   "metadata": {},
   "source": [
    "## `Answer`"
   ]
  },
  {
   "cell_type": "code",
   "execution_count": 252,
   "metadata": {},
   "outputs": [
    {
     "name": "stdout",
     "output_type": "stream",
     "text": [
      "Accuracy: 0.73739\n",
      "Precision: 0.73872\n",
      "Recall: 0.73739\n",
      "F1 Score: 0.73071\n"
     ]
    }
   ],
   "source": [
    "# Answer: Naive Bayes | BOW\n",
    "mnb_bow_predictions_answer = train_predict_evaluate_model(classifier=mnb,\n",
    "                                            train_features=bow_train_answer,\n",
    "                                            train_labels=train_labels,\n",
    "                                            test_features=bow_test_answer,\n",
    "                                            test_labels=test_labels)"
   ]
  },
  {
   "cell_type": "code",
   "execution_count": 268,
   "metadata": {},
   "outputs": [
    {
     "name": "stdout",
     "output_type": "stream",
     "text": [
      "Accuracy: 0.72479\n",
      "Precision: 0.72527\n",
      "Recall: 0.72479\n",
      "F1 Score: 0.72279\n"
     ]
    }
   ],
   "source": [
    "# Over Sampling\n",
    "# Answer: Naive Bayes | BOW\n",
    "mnb_bow_predictions_answer = train_predict_evaluate_model(classifier=mnb,\n",
    "                                            train_features=A,\n",
    "                                            train_labels=b,\n",
    "                                            test_features=bow_test_answer,\n",
    "                                            test_labels=test_labels)"
   ]
  },
  {
   "cell_type": "markdown",
   "metadata": {},
   "source": [
    "## Random Forest {BOW | Unigram}\n",
    "\n",
    "- Oversampling works with Random Forest and increased the accuracy by 10%\n",
    "- Yet the accuracy of random forest is still roughly 50% to 49%"
   ]
  },
  {
   "cell_type": "markdown",
   "metadata": {},
   "source": [
    "## `Question`"
   ]
  },
  {
   "cell_type": "code",
   "execution_count": 276,
   "metadata": {},
   "outputs": [
    {
     "name": "stdout",
     "output_type": "stream",
     "text": [
      "Accuracy: 0.42857\n",
      "Precision: 0.7551\n",
      "Recall: 0.42857\n",
      "F1 Score: 0.25714\n"
     ]
    }
   ],
   "source": [
    "# Question\n",
    "rf_bow_predictions_question = train_predict_evaluate_model(classifier=rf,\n",
    "                                            train_features=bow_train_question,\n",
    "                                            train_labels=train_labels,\n",
    "                                            test_features=bow_test_question,\n",
    "                                            test_labels=test_labels)"
   ]
  },
  {
   "cell_type": "code",
   "execution_count": 275,
   "metadata": {},
   "outputs": [
    {
     "name": "stdout",
     "output_type": "stream",
     "text": [
      "Accuracy: 0.53992\n",
      "Precision: 0.57838\n",
      "Recall: 0.53992\n",
      "F1 Score: 0.53754\n"
     ]
    }
   ],
   "source": [
    "# Oversampling quesiton\n",
    "rf_bow_predictions_question = train_predict_evaluate_model(classifier=rf,\n",
    "                                            train_features=X,\n",
    "                                            train_labels=y,\n",
    "                                            test_features=bow_test_question,\n",
    "                                            test_labels=test_labels)"
   ]
  },
  {
   "cell_type": "markdown",
   "metadata": {},
   "source": [
    "## `Answer`"
   ]
  },
  {
   "cell_type": "code",
   "execution_count": 278,
   "metadata": {},
   "outputs": [
    {
     "name": "stdout",
     "output_type": "stream",
     "text": [
      "Accuracy: 0.42857\n",
      "Precision: 0.7551\n",
      "Recall: 0.42857\n",
      "F1 Score: 0.25714\n"
     ]
    }
   ],
   "source": [
    "# Answer\n",
    "rf_tfidf_predictions_question = train_predict_evaluate_model(classifier=rf,\n",
    "                                            train_features=bow_train_answer,\n",
    "                                            train_labels=train_labels,\n",
    "                                            test_features=bow_test_answer,\n",
    "                                            test_labels=test_labels)"
   ]
  },
  {
   "cell_type": "code",
   "execution_count": 279,
   "metadata": {},
   "outputs": [
    {
     "name": "stdout",
     "output_type": "stream",
     "text": [
      "Accuracy: 0.5105\n",
      "Precision: 0.5159\n",
      "Recall: 0.5105\n",
      "F1 Score: 0.50899\n"
     ]
    }
   ],
   "source": [
    "# Answer\n",
    "rf_tfidf_predictions_question = train_predict_evaluate_model(classifier=rf,\n",
    "                                            train_features=A,\n",
    "                                            train_labels=b,\n",
    "                                            test_features=bow_test_answer,\n",
    "                                            test_labels=test_labels)"
   ]
  },
  {
   "cell_type": "markdown",
   "metadata": {},
   "source": [
    "# ____\n",
    "# `TFIDF Features` - NOT OVERSAMPLING\n",
    "\n",
    "As observed in the plot below, the accuracy rate on TFIDF features without oversampling is lower than TFIDF with over sampling (in the main submission) - Therefore we don't have to consider TFIDF that are not over sampling\n",
    "\n",
    "As observed accuracy rate on testing dataset, SVM (in part 6) with TFIDF still performs with the highest accuracy rate on both testing and training dataset \n",
    "Therefore, we go with SVM \n",
    "\n",
    "\n",
    "\n",
    "### Question"
   ]
  },
  {
   "cell_type": "code",
   "execution_count": 327,
   "metadata": {},
   "outputs": [
    {
     "data": {
      "image/png": "[encoded data removed]",
      "text/plain": [
       "<Figure size 648x432 with 1 Axes>"
      ]
     },
     "metadata": {
      "needs_background": "light"
     },
     "output_type": "display_data"
    },
    {
     "data": {
      "text/plain": [
       "model name\n",
       "DecisionTreeClassifier    0.799969\n",
       "MultinomialNB             0.564730\n",
       "RandomForestClassifier    0.401546\n",
       "SGDClassifier             0.901300\n",
       "Name: accuracy, dtype: float64"
      ]
     },
     "execution_count": 327,
     "metadata": {},
     "output_type": "execute_result"
    }
   ],
   "source": [
    "\n",
    "# Answer\n",
    "models = [mnb, svm, dct, rf]\n",
    "from sklearn.model_selection import cross_val_score\n",
    "# Fitting the model into a plot\n",
    "CV = 5 # 5-fold cross validation\n",
    "cv_df_tfidf = pd.DataFrame(index=range(CV*len(models)))\n",
    "entries=[]\n",
    "for model in models:\n",
    "    model_name = model.__class__.__name__\n",
    "    accuracies = cross_val_score(model,tfidf_train_question,train_labels,scoring='accuracy',cv=CV)\n",
    "    for fold_idx, accuracy in enumerate(accuracies):\n",
    "        entries.append((model_name,fold_idx,accuracy))\n",
    "    cv_df_tfidf=pd.DataFrame(entries, columns=['model name','fold_idx','accuracy'])\n",
    "\n",
    "# Build a plots to visualize the model selections\n",
    "plt.figure(figsize=(9,6))\n",
    "sns.boxplot(x='model name',y='accuracy',data=cv_df_tfidf)\n",
    "sns.stripplot(x='model name',y='accuracy',data=cv_df_tfidf,\n",
    "             size=9, jitter=True, edgecolor=\"gray\",linewidth=3)\n",
    "\n",
    "plt.show()\n",
    "cv_df_tfidf.groupby('model name').accuracy.mean()"
   ]
  },
  {
   "cell_type": "markdown",
   "metadata": {},
   "source": [
    "### Answer"
   ]
  },
  {
   "cell_type": "code",
   "execution_count": 328,
   "metadata": {},
   "outputs": [
    {
     "data": {
      "image/png": "[encoded data removed]",
      "text/plain": [
       "<Figure size 648x432 with 1 Axes>"
      ]
     },
     "metadata": {
      "needs_background": "light"
     },
     "output_type": "display_data"
    },
    {
     "data": {
      "text/plain": [
       "model name\n",
       "DecisionTreeClassifier    0.479028\n",
       "MultinomialNB             0.406481\n",
       "RandomForestClassifier    0.401546\n",
       "SGDClassifier             0.772987\n",
       "Name: accuracy, dtype: float64"
      ]
     },
     "execution_count": 328,
     "metadata": {},
     "output_type": "execute_result"
    }
   ],
   "source": [
    "# Answer\n",
    "models = [mnb, svm, dct, rf]\n",
    "from sklearn.model_selection import cross_val_score\n",
    "# Fitting the model into a plot\n",
    "CV = 5 # 5-fold cross validation\n",
    "cv_df_tfidf = pd.DataFrame(index=range(CV*len(models)))\n",
    "entries=[]\n",
    "for model in models:\n",
    "    model_name = model.__class__.__name__\n",
    "    accuracies = cross_val_score(model,tfidf_train_answer,train_labels,scoring='accuracy',cv=CV)\n",
    "    for fold_idx, accuracy in enumerate(accuracies):\n",
    "        entries.append((model_name,fold_idx,accuracy))\n",
    "    cv_df_tfidf=pd.DataFrame(entries, columns=['model name','fold_idx','accuracy'])\n",
    "\n",
    "# Build a plots to visualize the model selections\n",
    "plt.figure(figsize=(9,6))\n",
    "sns.boxplot(x='model name',y='accuracy',data=cv_df_tfidf)\n",
    "sns.stripplot(x='model name',y='accuracy',data=cv_df_tfidf,\n",
    "             size=9, jitter=True, edgecolor=\"gray\",linewidth=3)\n",
    "\n",
    "plt.show()\n",
    "cv_df_tfidf.groupby('model name').accuracy.mean()"
   ]
  },
  {
   "cell_type": "markdown",
   "metadata": {},
   "source": [
    "## Decision Tree {TFIDF | Oversampling |Unigram & Bigram}\n",
    "\n",
    "## `Question`"
   ]
  },
  {
   "cell_type": "code",
   "execution_count": 290,
   "metadata": {},
   "outputs": [
    {
     "name": "stdout",
     "output_type": "stream",
     "text": [
      "Accuracy: 0.43067\n",
      "Precision: 0.43184\n",
      "Recall: 0.43067\n",
      "F1 Score: 0.43004\n"
     ]
    }
   ],
   "source": [
    "# Question: Decision Tree | TFIDF Features\n",
    "dct_tfidf_predictions = train_predict_evaluate_model(classifier=dct,\n",
    "                                                  train_features=X_train_question,\n",
    "                                                 train_labels=y_train_question,\n",
    "                                                 test_features=tfidf_test_question,\n",
    "                                                 test_labels=test_labels)"
   ]
  },
  {
   "cell_type": "markdown",
   "metadata": {},
   "source": [
    "## `Answer`"
   ]
  },
  {
   "cell_type": "code",
   "execution_count": 291,
   "metadata": {},
   "outputs": [
    {
     "name": "stdout",
     "output_type": "stream",
     "text": [
      "Accuracy: 0.48529\n",
      "Precision: 0.4785\n",
      "Recall: 0.48529\n",
      "F1 Score: 0.48072\n"
     ]
    }
   ],
   "source": [
    "# Answer Decision Tree | TFIDF Features\n",
    "dct_tfidf_predictions = train_predict_evaluate_model(classifier=dct,\n",
    "                                                  train_features=X_train_answer,\n",
    "                                                 train_labels=y_train_answer,\n",
    "                                                 test_features=tfidf_test_answer,\n",
    "                                                 test_labels=test_labels)"
   ]
  },
  {
   "cell_type": "markdown",
   "metadata": {},
   "source": [
    "## Random Forest {TFIDF| Oversampling| Unigram & Bigram}\n",
    "\n",
    "## `Question`"
   ]
  },
  {
   "cell_type": "code",
   "execution_count": 293,
   "metadata": {},
   "outputs": [
    {
     "name": "stdout",
     "output_type": "stream",
     "text": [
      "Accuracy: 0.57563\n",
      "Precision: 0.61671\n",
      "Recall: 0.57563\n",
      "F1 Score: 0.58112\n"
     ]
    }
   ],
   "source": [
    "# Question: Decision Tree | TFIDF Features\n",
    "rf_tfidf_predictions = train_predict_evaluate_model(classifier=rf,\n",
    "                                                  train_features=X_train_question,\n",
    "                                                 train_labels=y_train_question,\n",
    "                                                 test_features=tfidf_test_question,\n",
    "                                                 test_labels=test_labels)"
   ]
  },
  {
   "cell_type": "markdown",
   "metadata": {},
   "source": [
    "## `Answer`"
   ]
  },
  {
   "cell_type": "code",
   "execution_count": 294,
   "metadata": {},
   "outputs": [
    {
     "name": "stdout",
     "output_type": "stream",
     "text": [
      "Accuracy: 0.5063\n",
      "Precision: 0.58209\n",
      "Recall: 0.5063\n",
      "F1 Score: 0.5108\n"
     ]
    }
   ],
   "source": [
    "# Answer Decision Tree | TFIDF Features\n",
    "rf_tfidf_predictions = train_predict_evaluate_model(classifier=rf,\n",
    "                                                  train_features=X_train_answer,\n",
    "                                                 train_labels=y_train_answer,\n",
    "                                                 test_features=tfidf_test_answer,\n",
    "                                                 test_labels=test_labels)"
   ]
  },
  {
   "cell_type": "markdown",
   "metadata": {},
   "source": [
    "## Naive Bayes {TFIDF | Oversampling |Unigram & Bigram}\n",
    "\n",
    "## `Question`"
   ]
  },
  {
   "cell_type": "code",
   "execution_count": 296,
   "metadata": {},
   "outputs": [
    {
     "name": "stdout",
     "output_type": "stream",
     "text": [
      "Accuracy: 0.69958\n",
      "Precision: 0.73842\n",
      "Recall: 0.69958\n",
      "F1 Score: 0.70293\n"
     ]
    }
   ],
   "source": [
    "# Question: Decision Tree | TFIDF Features\n",
    "mnb_tfidf_predictions = train_predict_evaluate_model(classifier=mnb,\n",
    "                                                  train_features=X_train_question,\n",
    "                                                 train_labels=y_train_question,\n",
    "                                                 test_features=tfidf_test_question,\n",
    "                                                 test_labels=test_labels)"
   ]
  },
  {
   "cell_type": "markdown",
   "metadata": {},
   "source": [
    "## `Answer`"
   ]
  },
  {
   "cell_type": "code",
   "execution_count": 295,
   "metadata": {},
   "outputs": [
    {
     "name": "stdout",
     "output_type": "stream",
     "text": [
      "Accuracy: 0.69748\n",
      "Precision: 0.72507\n",
      "Recall: 0.69748\n",
      "F1 Score: 0.70154\n"
     ]
    }
   ],
   "source": [
    "# Answer Decision Tree | TFIDF Features\n",
    "mnb_tfidf_predictions = train_predict_evaluate_model(classifier=mnb,\n",
    "                                                  train_features=X_train_answer,\n",
    "                                                 train_labels=y_train_answer,\n",
    "                                                 test_features=tfidf_test_answer,\n",
    "                                                 test_labels=test_labels)"
   ]
  },
  {
   "cell_type": "markdown",
   "metadata": {},
   "source": [
    "# __________\n",
    "# `Word2Vec`\n",
    "\n",
    "Eventhough oversampling does increased accuracy for those model but not much when comparing to other model. Word2Vec is underperform"
   ]
  },
  {
   "cell_type": "code",
   "execution_count": 329,
   "metadata": {},
   "outputs": [
    {
     "data": {
      "image/png": "[encoded data removed]",
      "text/plain": [
       "<Figure size 648x432 with 1 Axes>"
      ]
     },
     "metadata": {
      "needs_background": "light"
     },
     "output_type": "display_data"
    },
    {
     "data": {
      "text/plain": [
       "model name\n",
       "DecisionTreeClassifier    0.551074\n",
       "RandomForestClassifier    0.595820\n",
       "SGDClassifier             0.615232\n",
       "Name: accuracy, dtype: float64"
      ]
     },
     "execution_count": 329,
     "metadata": {},
     "output_type": "execute_result"
    }
   ],
   "source": [
    "# Question\n",
    "models = [ svm, dct, rf]\n",
    "from sklearn.model_selection import cross_val_score\n",
    "# Fitting the model into a plot\n",
    "CV = 5 # 5-fold cross validation\n",
    "cv_df_w2v = pd.DataFrame(index=range(CV*len(models)))\n",
    "entries=[]\n",
    "for model in models:\n",
    "    model_name = model.__class__.__name__\n",
    "    accuracies = cross_val_score(model,avg_wv_traina_features,train_labels,scoring='accuracy',cv=CV)\n",
    "    for fold_idx, accuracy in enumerate(accuracies):\n",
    "        entries.append((model_name,fold_idx,accuracy))\n",
    "    cv_df_w2v=pd.DataFrame(entries, columns=['model name','fold_idx','accuracy'])\n",
    "\n",
    "# Build a plots to visualize the model selections\n",
    "plt.figure(figsize=(9,6))\n",
    "sns.boxplot(x='model name',y='accuracy',data=cv_df_w2v)\n",
    "sns.stripplot(x='model name',y='accuracy',data=cv_df_w2v,\n",
    "             size=9, jitter=True, edgecolor=\"gray\",linewidth=3)\n",
    "\n",
    "plt.show()\n",
    "cv_df_w2v.groupby('model name').accuracy.mean()"
   ]
  },
  {
   "cell_type": "code",
   "execution_count": 330,
   "metadata": {},
   "outputs": [
    {
     "data": {
      "image/png": "[encoded data removed]",
      "text/plain": [
       "<Figure size 648x432 with 1 Axes>"
      ]
     },
     "metadata": {
      "needs_background": "light"
     },
     "output_type": "display_data"
    },
    {
     "data": {
      "text/plain": [
       "model name\n",
       "DecisionTreeClassifier    0.818393\n",
       "RandomForestClassifier    0.598617\n",
       "SGDClassifier             0.631684\n",
       "Name: accuracy, dtype: float64"
      ]
     },
     "execution_count": 330,
     "metadata": {},
     "output_type": "execute_result"
    }
   ],
   "source": [
    "# Answer\n",
    "models = [ svm, dct, rf]\n",
    "from sklearn.model_selection import cross_val_score\n",
    "# Fitting the model into a plot\n",
    "CV = 5 # 5-fold cross validation\n",
    "cv_df_w2v = pd.DataFrame(index=range(CV*len(models)))\n",
    "entries=[]\n",
    "for model in models:\n",
    "    model_name = model.__class__.__name__\n",
    "    accuracies = cross_val_score(model,avg_wv_trainq_features,train_labels,scoring='accuracy',cv=CV)\n",
    "    for fold_idx, accuracy in enumerate(accuracies):\n",
    "        entries.append((model_name,fold_idx,accuracy))\n",
    "    cv_df_w2v=pd.DataFrame(entries, columns=['model name','fold_idx','accuracy'])\n",
    "\n",
    "# Build a plots to visualize the model selections\n",
    "plt.figure(figsize=(9,6))\n",
    "sns.boxplot(x='model name',y='accuracy',data=cv_df_w2v)\n",
    "sns.stripplot(x='model name',y='accuracy',data=cv_df_w2v,\n",
    "             size=9, jitter=True, edgecolor=\"gray\",linewidth=3)\n",
    "\n",
    "plt.show()\n",
    "cv_df_w2v.groupby('model name').accuracy.mean()"
   ]
  },
  {
   "cell_type": "markdown",
   "metadata": {},
   "source": [
    "## SVM {word2vec}\n",
    "## `Question`"
   ]
  },
  {
   "cell_type": "code",
   "execution_count": 311,
   "metadata": {},
   "outputs": [
    {
     "name": "stdout",
     "output_type": "stream",
     "text": [
      "Accuracy: 0.58193\n",
      "Precision: 0.60266\n",
      "Recall: 0.58193\n",
      "F1 Score: 0.57298\n"
     ]
    }
   ],
   "source": [
    "# Question: Support Vector Machine | Word2vec\n",
    "svm_wv_predictions_q = train_predict_evaluate_model(classifier=svm,\n",
    "                                                 train_features=avg_wv_trainq_features,\n",
    "                                                 train_labels=train_labels,\n",
    "                                                 test_features=avg_wv_testq_features,\n",
    "                                                 test_labels=test_labels)"
   ]
  },
  {
   "cell_type": "code",
   "execution_count": 312,
   "metadata": {},
   "outputs": [
    {
     "name": "stdout",
     "output_type": "stream",
     "text": [
      "Accuracy: 0.58613\n",
      "Precision: 0.63231\n",
      "Recall: 0.58613\n",
      "F1 Score: 0.58528\n"
     ]
    }
   ],
   "source": [
    "# Question: Support Vector Machine | Word2vec #Oversampling\n",
    "svm_wv_predictions_q = train_predict_evaluate_model(classifier=svm,\n",
    "                                                 train_features=w2v_q,\n",
    "                                                 train_labels=q_labels,\n",
    "                                                 test_features=avg_wv_testq_features,\n",
    "                                                 test_labels=test_labels)"
   ]
  },
  {
   "cell_type": "markdown",
   "metadata": {},
   "source": [
    "## `Answer`"
   ]
  },
  {
   "cell_type": "code",
   "execution_count": 313,
   "metadata": {},
   "outputs": [
    {
     "name": "stdout",
     "output_type": "stream",
     "text": [
      "Accuracy: 0.63866\n",
      "Precision: 0.6373\n",
      "Recall: 0.63866\n",
      "F1 Score: 0.63771\n"
     ]
    }
   ],
   "source": [
    "# Answer: Support Vector Machine | Word2vec\n",
    "svm_wv_predictions_a = train_predict_evaluate_model(classifier=svm,\n",
    "                                                 train_features=avg_wv_traina_features,\n",
    "                                                 train_labels=train_labels,\n",
    "                                                 test_features=avg_wv_testa_features,\n",
    "                                                 test_labels=test_labels)"
   ]
  },
  {
   "cell_type": "code",
   "execution_count": 314,
   "metadata": {},
   "outputs": [
    {
     "name": "stdout",
     "output_type": "stream",
     "text": [
      "Accuracy: 0.56513\n",
      "Precision: 0.59781\n",
      "Recall: 0.56513\n",
      "F1 Score: 0.56487\n"
     ]
    }
   ],
   "source": [
    "# Answer: Support Vector Machine | Word2vec\n",
    "svm_wv_predictions_a = train_predict_evaluate_model(classifier=svm,\n",
    "                                                 train_features=w2v_a,\n",
    "                                                 train_labels=a_labels,\n",
    "                                                 test_features=avg_wv_testa_features,\n",
    "                                                 test_labels=test_labels)"
   ]
  },
  {
   "cell_type": "markdown",
   "metadata": {},
   "source": [
    "## Decision Tree {word2vec}\n",
    "## `Question`"
   ]
  },
  {
   "cell_type": "code",
   "execution_count": 317,
   "metadata": {},
   "outputs": [
    {
     "name": "stdout",
     "output_type": "stream",
     "text": [
      "Accuracy: 0.51681\n",
      "Precision: 0.5237\n",
      "Recall: 0.51681\n",
      "F1 Score: 0.51831\n"
     ]
    }
   ],
   "source": [
    "# Question: Decision Tree | Word2vec\n",
    "dct_wv_predictions_q = train_predict_evaluate_model(classifier=dct,\n",
    "                                                 train_features=avg_wv_trainq_features,\n",
    "                                                 train_labels=train_labels,\n",
    "                                                 test_features=avg_wv_testq_features,\n",
    "                                                 test_labels=test_labels)"
   ]
  },
  {
   "cell_type": "code",
   "execution_count": 318,
   "metadata": {},
   "outputs": [
    {
     "name": "stdout",
     "output_type": "stream",
     "text": [
      "Accuracy: 0.4958\n",
      "Precision: 0.50449\n",
      "Recall: 0.4958\n",
      "F1 Score: 0.49897\n"
     ]
    }
   ],
   "source": [
    "# Question: Decision Tree | Word2vec # Oversampling\n",
    "dct_wv_predictions_q = train_predict_evaluate_model(classifier=dct,\n",
    "                                                 train_features=w2v_q,\n",
    "                                                 train_labels=q_labels,\n",
    "                                                 test_features=avg_wv_testq_features,\n",
    "                                                 test_labels=test_labels)"
   ]
  },
  {
   "cell_type": "markdown",
   "metadata": {},
   "source": [
    "## `Answer`"
   ]
  },
  {
   "cell_type": "code",
   "execution_count": 319,
   "metadata": {},
   "outputs": [
    {
     "name": "stdout",
     "output_type": "stream",
     "text": [
      "Accuracy: 0.57143\n",
      "Precision: 0.56992\n",
      "Recall: 0.57143\n",
      "F1 Score: 0.56995\n"
     ]
    }
   ],
   "source": [
    "# Answer: Decision Tree | Word2vec \n",
    "dct_wv_predictions_a = train_predict_evaluate_model(classifier=dct,\n",
    "                                                 train_features=avg_wv_traina_features,\n",
    "                                                 train_labels=train_labels,\n",
    "                                                 test_features=avg_wv_testa_features,\n",
    "                                                 test_labels=test_labels)"
   ]
  },
  {
   "cell_type": "code",
   "execution_count": 320,
   "metadata": {},
   "outputs": [
    {
     "name": "stdout",
     "output_type": "stream",
     "text": [
      "Accuracy: 0.53151\n",
      "Precision: 0.55481\n",
      "Recall: 0.53151\n",
      "F1 Score: 0.53776\n"
     ]
    }
   ],
   "source": [
    "# Answer Decision Tree Oversampling\n",
    "dtc_wv_predictions_a = train_predict_evaluate_model(classifier=dct,\n",
    "                                                 train_features=w2v_a,\n",
    "                                                 train_labels=a_labels,\n",
    "                                                 test_features=avg_wv_testa_features,\n",
    "                                                 test_labels=test_labels)"
   ]
  },
  {
   "cell_type": "markdown",
   "metadata": {},
   "source": [
    "## Random Forest {word2vec}"
   ]
  },
  {
   "cell_type": "markdown",
   "metadata": {},
   "source": [
    "## `Question`"
   ]
  },
  {
   "cell_type": "code",
   "execution_count": 304,
   "metadata": {},
   "outputs": [
    {
     "name": "stdout",
     "output_type": "stream",
     "text": [
      "Accuracy: 0.59874\n",
      "Precision: 0.66562\n",
      "Recall: 0.59874\n",
      "F1 Score: 0.55853\n"
     ]
    }
   ],
   "source": [
    "# Question: Random Forest| Word2vec\n",
    "rf_wv_predictions_q = train_predict_evaluate_model(classifier=rf,\n",
    "                                                 train_features=avg_wv_trainq_features,\n",
    "                                                 train_labels=train_labels,\n",
    "                                                 test_features=avg_wv_testq_features,\n",
    "                                                 test_labels=test_labels)"
   ]
  },
  {
   "cell_type": "code",
   "execution_count": 307,
   "metadata": {},
   "outputs": [
    {
     "name": "stdout",
     "output_type": "stream",
     "text": [
      "Accuracy: 0.57773\n",
      "Precision: 0.6182\n",
      "Recall: 0.57773\n",
      "F1 Score: 0.5869\n"
     ]
    }
   ],
   "source": [
    "# Oversampling\n",
    "# Question: Random Forest | Word2vec\n",
    "rf_wv_predictions_q = train_predict_evaluate_model(classifier=rf,\n",
    "                                                 train_features=w2v_q,\n",
    "                                                 train_labels=q_labels,\n",
    "                                                 test_features=avg_wv_testq_features,\n",
    "                                                 test_labels=test_labels)"
   ]
  },
  {
   "cell_type": "markdown",
   "metadata": {},
   "source": [
    "## `Answer`"
   ]
  },
  {
   "cell_type": "code",
   "execution_count": 305,
   "metadata": {},
   "outputs": [
    {
     "name": "stdout",
     "output_type": "stream",
     "text": [
      "Accuracy: 0.62185\n",
      "Precision: 0.68274\n",
      "Recall: 0.62185\n",
      "F1 Score: 0.57746\n"
     ]
    }
   ],
   "source": [
    "# Answer: Random Forest | Word2vec\n",
    "rf_wv_predictions_a = train_predict_evaluate_model(classifier=rf,\n",
    "                                                 train_features=avg_wv_traina_features,\n",
    "                                                 train_labels=train_labels,\n",
    "                                                 test_features=avg_wv_testa_features,\n",
    "                                                 test_labels=test_labels)"
   ]
  },
  {
   "cell_type": "code",
   "execution_count": 321,
   "metadata": {},
   "outputs": [
    {
     "name": "stdout",
     "output_type": "stream",
     "text": [
      "Accuracy: 0.55882\n",
      "Precision: 0.60534\n",
      "Recall: 0.55882\n",
      "F1 Score: 0.56437\n"
     ]
    }
   ],
   "source": [
    "# Answer Random Forest Oversampling\n",
    "rf_wv_predictions_a = train_predict_evaluate_model(classifier=rf,\n",
    "                                                 train_features=w2v_a,\n",
    "                                                 train_labels=a_labels,\n",
    "                                                 test_features=avg_wv_testa_features,\n",
    "                                                 test_labels=test_labels)"
   ]
  },
  {
   "cell_type": "markdown",
   "metadata": {},
   "source": [
    "# References"
   ]
  },
  {
   "cell_type": "markdown",
   "metadata": {},
   "source": [
    "1. Towards Data Science | Multiclass Text Classification with scikitlearn - https://towardsdatascience.com/multi-class-text-classification-with-scikit-learn-12f1e60e0a9f\n",
    "2. Towards Data Science | Machine Learning Multiclass Classification with imbalanced data set https://towardsdatascience.com/machine-learning-multiclass-classification-with-imbalanced-data-set-29f6a177c1a\n",
    "3. Machine Learning Mastery | A Gentle Introduction to Imbalanced Classification https://machinelearningmastery.com/what-is-imbalanced-classification/\n",
    "4. Kaggle | Best Algorithm for Classification https://www.kaggle.com/getting-started/42409\n",
    "5. Medium | Tips and Tricks for Multi-class classfification https://medium.com/@b.terryjack/tips-and-tricks-for-multi-class-classification-c184ae1c8ffc"
   ]
  },
  {
   "cell_type": "code",
   "execution_count": null,
   "metadata": {},
   "outputs": [],
   "source": []
  }
 ],
 "metadata": {
  "kernelspec": {
   "display_name": "Python 3",
   "language": "python",
   "name": "python3"
  },
  "language_info": {
   "codemirror_mode": {
    "name": "ipython",
    "version": 3
   },
   "file_extension": ".py",
   "mimetype": "text/x-python",
   "name": "python",
   "nbconvert_exporter": "python",
   "pygments_lexer": "ipython3",
   "version": "3.7.4"
  }
 },
 "nbformat": 4,
 "nbformat_minor": 2
}
